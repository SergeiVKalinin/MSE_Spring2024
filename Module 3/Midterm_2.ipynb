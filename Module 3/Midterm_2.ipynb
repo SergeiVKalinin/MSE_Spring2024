{
  "nbformat": 4,
  "nbformat_minor": 0,
  "metadata": {
    "colab": {
      "provenance": [],
      "authorship_tag": "ABX9TyP4A92PZEfotkdiQYW+nQ67",
      "include_colab_link": true
    },
    "kernelspec": {
      "name": "python3",
      "display_name": "Python 3"
    },
    "language_info": {
      "name": "python"
    }
  },
  "cells": [
    {
      "cell_type": "markdown",
      "metadata": {
        "id": "view-in-github",
        "colab_type": "text"
      },
      "source": [
        "<a href=\"https://colab.research.google.com/github/SergeiVKalinin/MSE_Spring2024/blob/main/Module%203/Midterm_2.ipynb\" target=\"_parent\"><img src=\"https://colab.research.google.com/assets/colab-badge.svg\" alt=\"Open In Colab\"/></a>"
      ]
    },
    {
      "cell_type": "markdown",
      "source": [
        "# Bayesian Inference I"
      ],
      "metadata": {
        "id": "SnXj8LLnJ4Fz"
      }
    },
    {
      "cell_type": "markdown",
      "source": [
        "Download from GitHub files:\n",
        "- PL curves prob 1.csv\n"
      ],
      "metadata": {
        "id": "UhT-DSUTIBxf"
      }
    },
    {
      "cell_type": "markdown",
      "source": [
        "- Import the experimental data (PL curves over composition space)\n",
        "- Set the Bayesian Inference model with Gaussian and Lorenzian peaks\n",
        "- Fit the data for each concenbtration\n",
        "- Plot the marginal posterior distributions for mean of the Gaussian used for fit as a function of concentration"
      ],
      "metadata": {
        "id": "MZbGIVmsKpCC"
      }
    },
    {
      "cell_type": "code",
      "execution_count": null,
      "metadata": {
        "id": "5CDASL__JTs4"
      },
      "outputs": [],
      "source": []
    },
    {
      "cell_type": "markdown",
      "source": [
        "# Bayesian Inference II"
      ],
      "metadata": {
        "id": "DL9I1jzGLJD8"
      }
    },
    {
      "cell_type": "markdown",
      "source": [
        "Download form GitHub file:\n",
        "- PL_Curve_Data.xlsx"
      ],
      "metadata": {
        "id": "EoKD1GQqIrtn"
      }
    },
    {
      "cell_type": "markdown",
      "source": [
        "- Take a single PL curve\n",
        "- Make a function that adds noise to the curve\n",
        "- Do the Bayesian Inference while adding noise using both Lorenzian and Gaussian model\n",
        "- Plot the WAIC as a function of noise\n"
      ],
      "metadata": {
        "id": "bIUZpPOfLL5z"
      }
    },
    {
      "cell_type": "markdown",
      "source": [
        "# Gaussian Processes"
      ],
      "metadata": {
        "id": "_mcI1BOvKDpc"
      }
    },
    {
      "cell_type": "markdown",
      "source": [
        "Download from GitHub file:\n",
        "- Simulated_PL_or_Stability_Data.csv"
      ],
      "metadata": {
        "id": "SWT0uC0nI3SP"
      }
    },
    {
      "cell_type": "markdown",
      "source": [
        "- Import the experimental data set (1D)\n",
        "- Run the Gaussian Process (using scikit-learn or GPax)\n",
        "- Explicitly define the noise and kernel priors\n",
        "- Describe the meaning of the three prior distributions for the perspective of GP and perspective of the problem"
      ],
      "metadata": {
        "id": "9ceGYdyQKGzT"
      }
    },
    {
      "cell_type": "code",
      "source": [],
      "metadata": {
        "id": "FhKX-fK7KGqU"
      },
      "execution_count": null,
      "outputs": []
    },
    {
      "cell_type": "markdown",
      "source": [
        "# Bayesian Optimization"
      ],
      "metadata": {
        "id": "Hih-3rGxJ9mr"
      }
    },
    {
      "cell_type": "markdown",
      "source": [
        "- Define the Ising Function using the Colab 7_SymbolicRegression_Ising.ipynb\n",
        "- The function should take the value of the exchange integral (or temperature) as an input and return the chosen thermodynamic variable as an output\n",
        "- Write the exploration BO cycle using GPax"
      ],
      "metadata": {
        "id": "3ImmrP9pJWYD"
      }
    }
  ]
}