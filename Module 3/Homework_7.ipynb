{
  "nbformat": 4,
  "nbformat_minor": 0,
  "metadata": {
    "colab": {
      "provenance": [],
      "authorship_tag": "ABX9TyNMqFTtx6PHt+Evy36/Bo+N",
      "include_colab_link": true
    },
    "kernelspec": {
      "name": "python3",
      "display_name": "Python 3"
    },
    "language_info": {
      "name": "python"
    }
  },
  "cells": [
    {
      "cell_type": "markdown",
      "metadata": {
        "id": "view-in-github",
        "colab_type": "text"
      },
      "source": [
        "<a href=\"https://colab.research.google.com/github/SergeiVKalinin/MSE_Spring2024/blob/main/Module%203/Homework_7.ipynb\" target=\"_parent\"><img src=\"https://colab.research.google.com/assets/colab-badge.svg\" alt=\"Open In Colab\"/></a>"
      ]
    },
    {
      "cell_type": "markdown",
      "source": [
        "0. Read Chapters 3,4, and 5 in Martin book, https://subscription.packtpub.com/book/data/9781805127161/3"
      ],
      "metadata": {
        "id": "EcAmUDuNP1a8"
      }
    },
    {
      "cell_type": "markdown",
      "source": [
        "1. Fitting distribution 1:\n",
        "- Create a data set using 30 draws from uniform distribution on [2,5]\n",
        "- Use arviz to explore the data\n",
        "- Create a PYMC model fitting it with Uniform distribution\n",
        "- Plot posterior distribution\n",
        "- Plot posterior predictive checks\n",
        "- Explain the meaning of posterior distributions"
      ],
      "metadata": {
        "id": "wZNAUs4FQRfM"
      }
    },
    {
      "cell_type": "code",
      "execution_count": null,
      "metadata": {
        "id": "f0Sh9lMKOzhQ"
      },
      "outputs": [],
      "source": []
    },
    {
      "cell_type": "markdown",
      "source": [
        "2. Fitting distribution 2:\n",
        "- Create a data set using 30 draws from uniform distribution on [2,5]\n",
        "- Use arviz to explore the data\n",
        "- Create a PYMC model fitting it with Beta distribution\n",
        "- Plot posterior distribution\n",
        "- Plot posterior predictive checks\n",
        "- Explain the meaning of posterior predictive checks"
      ],
      "metadata": {
        "id": "Eow7ucE7Q9nl"
      }
    },
    {
      "cell_type": "code",
      "source": [],
      "metadata": {
        "id": "h07L3oZkRFBM"
      },
      "execution_count": null,
      "outputs": []
    },
    {
      "cell_type": "markdown",
      "source": [
        "3. Fitting line\n",
        "- Import Iris Data set\n",
        "- Plot Sepal length as a function of Sepal width\n",
        "- Build PYMC linear model\n",
        "- Plot posteriors as marginal and joint distributions\n",
        "- Plot posterior predictive checks\n",
        "- Rationalize the behavior of joint distribution between slope and intersect"
      ],
      "metadata": {
        "id": "An1E7czCSBBL"
      }
    },
    {
      "cell_type": "code",
      "source": [],
      "metadata": {
        "id": "dygGsSDZSSy0"
      },
      "execution_count": null,
      "outputs": []
    },
    {
      "cell_type": "markdown",
      "source": [
        "4. Fitting plane\n",
        "- Import Iris Data set\n",
        "- Plot Sepal length as a function of Petal Length and Petal width\n",
        "- Build PYMC linear model\n",
        "- Plot posteriors\n",
        "- Plot posterior predictive checks"
      ],
      "metadata": {
        "id": "3fwnnbxXSS77"
      }
    },
    {
      "cell_type": "code",
      "source": [],
      "metadata": {
        "id": "pirAMpP_Sn0E"
      },
      "execution_count": null,
      "outputs": []
    },
    {
      "cell_type": "markdown",
      "source": [
        "5. Build Hierarchical model\n",
        "- Import Iris data set\n",
        "- Fit Sepal Length as a function of Sepal Width for three groups as hierarchical model\n",
        "- Explain the meanings of the hyperparameters proprs and parameters priors"
      ],
      "metadata": {
        "id": "FiV_g8q1SrVr"
      }
    }
  ]
}