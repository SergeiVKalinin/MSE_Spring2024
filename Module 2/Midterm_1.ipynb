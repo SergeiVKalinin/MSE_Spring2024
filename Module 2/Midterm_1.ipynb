{
  "nbformat": 4,
  "nbformat_minor": 0,
  "metadata": {
    "colab": {
      "provenance": [],
      "toc_visible": true,
      "include_colab_link": true
    },
    "kernelspec": {
      "name": "python3",
      "display_name": "Python 3"
    },
    "language_info": {
      "name": "python"
    }
  },
  "cells": [
    {
      "cell_type": "markdown",
      "metadata": {
        "id": "view-in-github",
        "colab_type": "text"
      },
      "source": [
        "<a href=\"https://colab.research.google.com/github/SergeiVKalinin/MSE_Spring2024/blob/main/Module%202/Midterm_1.ipynb\" target=\"_parent\"><img src=\"https://colab.research.google.com/assets/colab-badge.svg\" alt=\"Open In Colab\"/></a>"
      ]
    },
    {
      "cell_type": "markdown",
      "source": [
        "Midterm 1.\n",
        "- Problems by Sergei V. Kalinin and Sheryl Sanchez\n",
        "- Please share the answers to sergei2vk@gmail.com and ssanch18@vols.utk.edu\n"
      ],
      "metadata": {
        "id": "xAhMnxe2euOb"
      }
    },
    {
      "cell_type": "markdown",
      "source": [
        "**NAME:**"
      ],
      "metadata": {
        "id": "pXEpSqtXXpI0"
      }
    },
    {
      "cell_type": "markdown",
      "source": [
        "Download the files temperature_resistivity_dataset.csv and 2d_symbolic_regression_dataset.csv from the course GitHub"
      ],
      "metadata": {
        "id": "aM0D3jhlfOlf"
      }
    },
    {
      "cell_type": "markdown",
      "source": [
        "# Problem 1. Use PySr to perform symbolic regression to understand the underlying relationship between temperature and resitivity."
      ],
      "metadata": {
        "id": "RAeZt1NgxApO"
      }
    },
    {
      "cell_type": "code",
      "source": [
        "import pandas as pd\n",
        "import numpy as np\n",
        "import matplotlib.pyplot as plt\n",
        "\n",
        "# Load excel file to panda's\n",
        "df = pd.read_csv('/content/temperature_resistivity_dataset.csv')\n",
        "\n",
        "# Plot the answer\n",
        "plt.scatter(df['Temperature (K)'], df['Resistivity (ohm m)'])\n",
        "plt.xlabel('Temperature (K)')\n",
        "plt.ylabel('Resistivity (ohm m)')\n",
        "plt.show()"
      ],
      "metadata": {
        "colab": {
          "base_uri": "https://localhost:8080/",
          "height": 449
        },
        "id": "LDvzNgcydk2g",
        "outputId": "06e95305-26b9-4716-d7cf-2ae1980dfcd0"
      },
      "execution_count": 6,
      "outputs": [
        {
          "output_type": "display_data",
          "data": {
            "text/plain": [
              "<Figure size 640x480 with 1 Axes>"
            ],
            "image/png": "[encoded data removed]"
          },
          "metadata": {}
        }
      ]
    },
    {
      "cell_type": "code",
      "source": [],
      "metadata": {
        "id": "z2e6SWdRd2Ex"
      },
      "execution_count": null,
      "outputs": []
    },
    {
      "cell_type": "markdown",
      "source": [
        "# Problem 2. Use PySr to fit a 2D dataset. Adjust parameters of PySR to fit the data best.\n",
        "\n"
      ],
      "metadata": {
        "id": "XkNn2VONyve_"
      }
    },
    {
      "cell_type": "code",
      "source": [
        "import pandas as pd\n",
        "import numpy as np\n",
        "import matplotlib.pyplot as plt\n",
        "\n",
        "# Load excel file to panda's\n",
        "df = pd.read_csv('/content/2d_symbolic_regression_dataset.csv')\n",
        "df.head()"
      ],
      "metadata": {
        "colab": {
          "base_uri": "https://localhost:8080/",
          "height": 206
        },
        "id": "VLl1d9xYd2TA",
        "outputId": "6c500298-370e-43ac-84d2-b46a81506515"
      },
      "execution_count": 7,
      "outputs": [
        {
          "output_type": "execute_result",
          "data": {
            "text/plain": [
              "         X    Y           Z\n",
              "0 -5.00000 -5.0  133.686847\n",
              "1 -4.89899 -5.0  131.337777\n",
              "2 -4.79798 -5.0  129.033322\n",
              "3 -4.69697 -5.0  126.773697\n",
              "4 -4.59596 -5.0  124.559133"
            ],
            "text/html": [
              "\n",
              "  <div id=\"df-7ca76cb9-dc9f-45a1-a942-41ce5686330d\" class=\"colab-df-container\">\n",
              "    <div>\n",
              "<style scoped>\n",
              "    .dataframe tbody tr th:only-of-type {\n",
              "        vertical-align: middle;\n",
              "    }\n",
              "\n",
              "    .dataframe tbody tr th {\n",
              "        vertical-align: top;\n",
              "    }\n",
              "\n",
              "    .dataframe thead th {\n",
              "        text-align: right;\n",
              "    }\n",
              "</style>\n",
              "<table border=\"1\" class=\"dataframe\">\n",
              "  <thead>\n",
              "    <tr style=\"text-align: right;\">\n",
              "      <th></th>\n",
              "      <th>X</th>\n",
              "      <th>Y</th>\n",
              "      <th>Z</th>\n",
              "    </tr>\n",
              "  </thead>\n",
              "  <tbody>\n",
              "    <tr>\n",
              "      <th>0</th>\n",
              "      <td>-5.00000</td>\n",
              "      <td>-5.0</td>\n",
              "      <td>133.686847</td>\n",
              "    </tr>\n",
              "    <tr>\n",
              "      <th>1</th>\n",
              "      <td>-4.89899</td>\n",
              "      <td>-5.0</td>\n",
              "      <td>131.337777</td>\n",
              "    </tr>\n",
              "    <tr>\n",
              "      <th>2</th>\n",
              "      <td>-4.79798</td>\n",
              "      <td>-5.0</td>\n",
              "      <td>129.033322</td>\n",
              "    </tr>\n",
              "    <tr>\n",
              "      <th>3</th>\n",
              "      <td>-4.69697</td>\n",
              "      <td>-5.0</td>\n",
              "      <td>126.773697</td>\n",
              "    </tr>\n",
              "    <tr>\n",
              "      <th>4</th>\n",
              "      <td>-4.59596</td>\n",
              "      <td>-5.0</td>\n",
              "      <td>124.559133</td>\n",
              "    </tr>\n",
              "  </tbody>\n",
              "</table>\n",
              "</div>\n",
              "    <div class=\"colab-df-buttons\">\n",
              "\n",
              "  <div class=\"colab-df-container\">\n",
              "    <button class=\"colab-df-convert\" onclick=\"convertToInteractive('df-7ca76cb9-dc9f-45a1-a942-41ce5686330d')\"\n",
              "            title=\"Convert this dataframe to an interactive table.\"\n",
              "            style=\"display:none;\">\n",
              "\n",
              "  <svg xmlns=\"http://www.w3.org/2000/svg\" height=\"24px\" viewBox=\"0 -960 960 960\">\n",
              "    <path d=\"M120-120v-720h720v720H120Zm60-500h600v-160H180v160Zm220 220h160v-160H400v160Zm0 220h160v-160H400v160ZM180-400h160v-160H180v160Zm440 0h160v-160H620v160ZM180-180h160v-160H180v160Zm440 0h160v-160H620v160Z\"/>\n",
              "  </svg>\n",
              "    </button>\n",
              "\n",
              "  <style>\n",
              "    .colab-df-container {\n",
              "      display:flex;\n",
              "      gap: 12px;\n",
              "    }\n",
              "\n",
              "    .colab-df-convert {\n",
              "      background-color: #E8F0FE;\n",
              "      border: none;\n",
              "      border-radius: 50%;\n",
              "      cursor: pointer;\n",
              "      display: none;\n",
              "      fill: #1967D2;\n",
              "      height: 32px;\n",
              "      padding: 0 0 0 0;\n",
              "      width: 32px;\n",
              "    }\n",
              "\n",
              "    .colab-df-convert:hover {\n",
              "      background-color: #E2EBFA;\n",
              "      box-shadow: 0px 1px 2px rgba(60, 64, 67, 0.3), 0px 1px 3px 1px rgba(60, 64, 67, 0.15);\n",
              "      fill: #174EA6;\n",
              "    }\n",
              "\n",
              "    .colab-df-buttons div {\n",
              "      margin-bottom: 4px;\n",
              "    }\n",
              "\n",
              "    [theme=dark] .colab-df-convert {\n",
              "      background-color: #3B4455;\n",
              "      fill: #D2E3FC;\n",
              "    }\n",
              "\n",
              "    [theme=dark] .colab-df-convert:hover {\n",
              "      background-color: #434B5C;\n",
              "      box-shadow: 0px 1px 3px 1px rgba(0, 0, 0, 0.15);\n",
              "      filter: drop-shadow(0px 1px 2px rgba(0, 0, 0, 0.3));\n",
              "      fill: #FFFFFF;\n",
              "    }\n",
              "  </style>\n",
              "\n",
              "    <script>\n",
              "      const buttonEl =\n",
              "        document.querySelector('#df-7ca76cb9-dc9f-45a1-a942-41ce5686330d button.colab-df-convert');\n",
              "      buttonEl.style.display =\n",
              "        google.colab.kernel.accessAllowed ? 'block' : 'none';\n",
              "\n",
              "      async function convertToInteractive(key) {\n",
              "        const element = document.querySelector('#df-7ca76cb9-dc9f-45a1-a942-41ce5686330d');\n",
              "        const dataTable =\n",
              "          await google.colab.kernel.invokeFunction('convertToInteractive',\n",
              "                                                    [key], {});\n",
              "        if (!dataTable) return;\n",
              "\n",
              "        const docLinkHtml = 'Like what you see? Visit the ' +\n",
              "          '<a target=\"_blank\" href=https://colab.research.google.com/notebooks/data_table.ipynb>data table notebook</a>'\n",
              "          + ' to learn more about interactive tables.';\n",
              "        element.innerHTML = '';\n",
              "        dataTable['output_type'] = 'display_data';\n",
              "        await google.colab.output.renderOutput(dataTable, element);\n",
              "        const docLink = document.createElement('div');\n",
              "        docLink.innerHTML = docLinkHtml;\n",
              "        element.appendChild(docLink);\n",
              "      }\n",
              "    </script>\n",
              "  </div>\n",
              "\n",
              "\n",
              "<div id=\"df-c65369c1-c1a1-498b-b653-174ab813e41e\">\n",
              "  <button class=\"colab-df-quickchart\" onclick=\"quickchart('df-c65369c1-c1a1-498b-b653-174ab813e41e')\"\n",
              "            title=\"Suggest charts\"\n",
              "            style=\"display:none;\">\n",
              "\n",
              "<svg xmlns=\"http://www.w3.org/2000/svg\" height=\"24px\"viewBox=\"0 0 24 24\"\n",
              "     width=\"24px\">\n",
              "    <g>\n",
              "        <path d=\"M19 3H5c-1.1 0-2 .9-2 2v14c0 1.1.9 2 2 2h14c1.1 0 2-.9 2-2V5c0-1.1-.9-2-2-2zM9 17H7v-7h2v7zm4 0h-2V7h2v10zm4 0h-2v-4h2v4z\"/>\n",
              "    </g>\n",
              "</svg>\n",
              "  </button>\n",
              "\n",
              "<style>\n",
              "  .colab-df-quickchart {\n",
              "      --bg-color: #E8F0FE;\n",
              "      --fill-color: #1967D2;\n",
              "      --hover-bg-color: #E2EBFA;\n",
              "      --hover-fill-color: #174EA6;\n",
              "      --disabled-fill-color: #AAA;\n",
              "      --disabled-bg-color: #DDD;\n",
              "  }\n",
              "\n",
              "  [theme=dark] .colab-df-quickchart {\n",
              "      --bg-color: #3B4455;\n",
              "      --fill-color: #D2E3FC;\n",
              "      --hover-bg-color: #434B5C;\n",
              "      --hover-fill-color: #FFFFFF;\n",
              "      --disabled-bg-color: #3B4455;\n",
              "      --disabled-fill-color: #666;\n",
              "  }\n",
              "\n",
              "  .colab-df-quickchart {\n",
              "    background-color: var(--bg-color);\n",
              "    border: none;\n",
              "    border-radius: 50%;\n",
              "    cursor: pointer;\n",
              "    display: none;\n",
              "    fill: var(--fill-color);\n",
              "    height: 32px;\n",
              "    padding: 0;\n",
              "    width: 32px;\n",
              "  }\n",
              "\n",
              "  .colab-df-quickchart:hover {\n",
              "    background-color: var(--hover-bg-color);\n",
              "    box-shadow: 0 1px 2px rgba(60, 64, 67, 0.3), 0 1px 3px 1px rgba(60, 64, 67, 0.15);\n",
              "    fill: var(--button-hover-fill-color);\n",
              "  }\n",
              "\n",
              "  .colab-df-quickchart-complete:disabled,\n",
              "  .colab-df-quickchart-complete:disabled:hover {\n",
              "    background-color: var(--disabled-bg-color);\n",
              "    fill: var(--disabled-fill-color);\n",
              "    box-shadow: none;\n",
              "  }\n",
              "\n",
              "  .colab-df-spinner {\n",
              "    border: 2px solid var(--fill-color);\n",
              "    border-color: transparent;\n",
              "    border-bottom-color: var(--fill-color);\n",
              "    animation:\n",
              "      spin 1s steps(1) infinite;\n",
              "  }\n",
              "\n",
              "  @keyframes spin {\n",
              "    0% {\n",
              "      border-color: transparent;\n",
              "      border-bottom-color: var(--fill-color);\n",
              "      border-left-color: var(--fill-color);\n",
              "    }\n",
              "    20% {\n",
              "      border-color: transparent;\n",
              "      border-left-color: var(--fill-color);\n",
              "      border-top-color: var(--fill-color);\n",
              "    }\n",
              "    30% {\n",
              "      border-color: transparent;\n",
              "      border-left-color: var(--fill-color);\n",
              "      border-top-color: var(--fill-color);\n",
              "      border-right-color: var(--fill-color);\n",
              "    }\n",
              "    40% {\n",
              "      border-color: transparent;\n",
              "      border-right-color: var(--fill-color);\n",
              "      border-top-color: var(--fill-color);\n",
              "    }\n",
              "    60% {\n",
              "      border-color: transparent;\n",
              "      border-right-color: var(--fill-color);\n",
              "    }\n",
              "    80% {\n",
              "      border-color: transparent;\n",
              "      border-right-color: var(--fill-color);\n",
              "      border-bottom-color: var(--fill-color);\n",
              "    }\n",
              "    90% {\n",
              "      border-color: transparent;\n",
              "      border-bottom-color: var(--fill-color);\n",
              "    }\n",
              "  }\n",
              "</style>\n",
              "\n",
              "  <script>\n",
              "    async function quickchart(key) {\n",
              "      const quickchartButtonEl =\n",
              "        document.querySelector('#' + key + ' button');\n",
              "      quickchartButtonEl.disabled = true;  // To prevent multiple clicks.\n",
              "      quickchartButtonEl.classList.add('colab-df-spinner');\n",
              "      try {\n",
              "        const charts = await google.colab.kernel.invokeFunction(\n",
              "            'suggestCharts', [key], {});\n",
              "      } catch (error) {\n",
              "        console.error('Error during call to suggestCharts:', error);\n",
              "      }\n",
              "      quickchartButtonEl.classList.remove('colab-df-spinner');\n",
              "      quickchartButtonEl.classList.add('colab-df-quickchart-complete');\n",
              "    }\n",
              "    (() => {\n",
              "      let quickchartButtonEl =\n",
              "        document.querySelector('#df-c65369c1-c1a1-498b-b653-174ab813e41e button');\n",
              "      quickchartButtonEl.style.display =\n",
              "        google.colab.kernel.accessAllowed ? 'block' : 'none';\n",
              "    })();\n",
              "  </script>\n",
              "</div>\n",
              "\n",
              "    </div>\n",
              "  </div>\n"
            ],
            "application/vnd.google.colaboratory.intrinsic+json": {
              "type": "dataframe",
              "variable_name": "df",
              "summary": "{\n  \"name\": \"df\",\n  \"rows\": 10000,\n  \"fields\": [\n    {\n      \"column\": \"X\",\n      \"properties\": {\n        \"dtype\": \"number\",\n        \"std\": 2.9159104504526554,\n        \"min\": -5.0,\n        \"max\": 5.0,\n        \"num_unique_values\": 100,\n        \"samples\": [\n          3.383838383838384,\n          0.3535353535353538,\n          2.070707070707071\n        ],\n        \"semantic_type\": \"\",\n        \"description\": \"\"\n      }\n    },\n    {\n      \"column\": \"Y\",\n      \"properties\": {\n        \"dtype\": \"number\",\n        \"std\": 2.9159104504526554,\n        \"min\": -5.0,\n        \"max\": 5.0,\n        \"num_unique_values\": 100,\n        \"samples\": [\n          3.383838383838384,\n          0.3535353535353538,\n          2.070707070707071\n        ],\n        \"semantic_type\": \"\",\n        \"description\": \"\"\n      }\n    },\n    {\n      \"column\": \"Z\",\n      \"properties\": {\n        \"dtype\": \"number\",\n        \"std\": 28.899266596379448,\n        \"min\": -0.0603369043313802,\n        \"max\": 133.68684668872817,\n        \"num_unique_values\": 6875,\n        \"samples\": [\n          75.38995805994325,\n          38.46118385655271,\n          34.03820198954384\n        ],\n        \"semantic_type\": \"\",\n        \"description\": \"\"\n      }\n    }\n  ]\n}"
            }
          },
          "metadata": {},
          "execution_count": 7
        }
      ]
    },
    {
      "cell_type": "markdown",
      "source": [
        "Discuss on the fitting parameters, the results and model choices.\n"
      ],
      "metadata": {
        "id": "2VU42DA2yvcj"
      }
    },
    {
      "cell_type": "markdown",
      "source": [
        "Answer"
      ],
      "metadata": {
        "id": "ZT-DD5amyMh0"
      }
    },
    {
      "cell_type": "code",
      "source": [],
      "metadata": {
        "id": "SGYagnXNxclp"
      },
      "execution_count": 3,
      "outputs": []
    },
    {
      "cell_type": "markdown",
      "source": [
        "#Problem 3: Implementing and comparing ODE solvers"
      ],
      "metadata": {
        "id": "KNt62Ar47jP5"
      }
    },
    {
      "cell_type": "markdown",
      "source": [
        "2. (a) \tUse python to solve a first-order ODE that models the concentration decay of a reactant in a chemical reaction influenced by temperature. Consider the rate at which reactants decay, such as the rate of change of concentration $$dc/dt=-k(T)*c^{1.2}$$, where $k(T)=ko+αT$, is the temperature-dependent reaction rate, ko is the base reaction rate at a reference temp, α is a coefficient representing the rate’s sensitivity to temperature changes, and T is temp.\n",
        "\n",
        "Assume $C_o$ = 1.5M, $k_o$ = 0.1 $min^{-1}$, $α= 0.01min^{-1}$ $K^{-1}$"
      ],
      "metadata": {
        "id": "YOr83WGl7nRw"
      }
    },
    {
      "cell_type": "code",
      "source": [],
      "metadata": {
        "id": "eL0m_GcL8Lju"
      },
      "execution_count": 3,
      "outputs": []
    },
    {
      "cell_type": "markdown",
      "source": [
        "(b)\tInvestigate how varying the temperature T affects the reactant’s concentration over time. Choose three different temperatures to demonstrate the effect of temperature on the reaction rate."
      ],
      "metadata": {
        "id": "vamt129x79c6"
      }
    },
    {
      "cell_type": "code",
      "source": [],
      "metadata": {
        "id": "JjvgT2_P7mjc"
      },
      "execution_count": 3,
      "outputs": []
    },
    {
      "cell_type": "markdown",
      "source": [
        "(c)\tDiscuss the efficiency of the Euler’s method for this application and the physical significance of how temperature affects the concentration decay rate."
      ],
      "metadata": {
        "id": "G0qpVhAb8PSn"
      }
    },
    {
      "cell_type": "code",
      "source": [],
      "metadata": {
        "id": "BsWi-xXG8Q54"
      },
      "execution_count": 3,
      "outputs": []
    },
    {
      "cell_type": "markdown",
      "source": [
        "# Problem 4. Deep Learning for ODE solution prediction"
      ],
      "metadata": {
        "id": "Rgqz73B18Trg"
      }
    },
    {
      "cell_type": "markdown",
      "source": [
        "(a) Utilize a numeral method to solve a ODE $$du/dt = k u (1-u)$$ with $u(0) = 0.1$ for a range of initial conditions. Store the solutions and initial conditions in a dataset.\n"
      ],
      "metadata": {
        "id": "O0vCeY4E8c_P"
      }
    },
    {
      "cell_type": "markdown",
      "source": [
        "(b)\tConstruct a neural network using Keras that can learn from the dataset generated. (Model should input initial conditions and predict the ODE’s solution)"
      ],
      "metadata": {
        "id": "mNhan2gL8f0U"
      }
    },
    {
      "cell_type": "code",
      "source": [],
      "metadata": {
        "id": "qAa43W3SXamv"
      },
      "execution_count": 3,
      "outputs": []
    },
    {
      "cell_type": "markdown",
      "source": [
        "(c)\tAdjust the PINN from notebook 13 to solve by PINN"
      ],
      "metadata": {
        "id": "H0QW9Vct8gno"
      }
    },
    {
      "cell_type": "code",
      "source": [],
      "metadata": {
        "id": "kiD0IC2IXbQa"
      },
      "execution_count": 3,
      "outputs": []
    },
    {
      "cell_type": "markdown",
      "source": [
        "(d)\tDiscuss the potential advantages and limitations of using deep learning models for solving and interpreting ODEs."
      ],
      "metadata": {
        "id": "wqKXXEGa8j6C"
      }
    },
    {
      "cell_type": "code",
      "source": [],
      "metadata": {
        "id": "pj-028K_8VnU"
      },
      "execution_count": 3,
      "outputs": []
    },
    {
      "cell_type": "markdown",
      "source": [
        "# Problem 5: Qualitative questions\n"
      ],
      "metadata": {
        "id": "wVya7H5SeQPp"
      }
    },
    {
      "cell_type": "markdown",
      "source": [
        "5.1: Basic Differentiation and Numerical Errors\n",
        "\n",
        "(a) Explain the concept of numerical differentiation and discuss two common sources of numerical errors encountered when using Python for differentiation.\n",
        "(b) How can these numerical errors impact the results of scientific computations? Provide an example."
      ],
      "metadata": {
        "id": "DizHWnbRgDAI"
      }
    },
    {
      "cell_type": "markdown",
      "source": [],
      "metadata": {
        "id": "eIcTZQhseWUA"
      }
    },
    {
      "cell_type": "markdown",
      "source": [
        "5.2: Molecular Dynamics Simulations\n",
        "\n",
        "Explain how Molecular Dynamics (MD) simulations, involving the solution of millions of ODEs, can be used to predict the behavior of materials. Discuss the importance of force fields in MD simulations.\n",
        "\n"
      ],
      "metadata": {
        "id": "ChBAnD2seXII"
      }
    },
    {
      "cell_type": "markdown",
      "source": [],
      "metadata": {
        "id": "tUbiR4ISecPi"
      }
    },
    {
      "cell_type": "markdown",
      "source": [
        "5.3: Order Parameters and Multiphysics Modeling\n",
        "(a) Define the concept of order parameters in the context of PDEs.\n",
        "(b) Provide an example of how order parameters are utilized in multiphysics modeling. Discuss the challenges involved in solving such models."
      ],
      "metadata": {
        "id": "kAhsPZGoeccS"
      }
    },
    {
      "cell_type": "markdown",
      "source": [],
      "metadata": {
        "id": "3-M2YTP4eh-q"
      }
    },
    {
      "cell_type": "markdown",
      "source": [
        "Question 6: Neural Networks Recap\n",
        "\n",
        "(a) Describe the progression from a single linear neuron model to a multilayer neural network.\n",
        "(b) How does the introduction of non-linear activation functions between layers enhance the network's capability?\n"
      ],
      "metadata": {
        "id": "spWIErn9eiJa"
      }
    },
    {
      "cell_type": "markdown",
      "source": [],
      "metadata": {
        "id": "aYi6fbPLelDi"
      }
    },
    {
      "cell_type": "markdown",
      "source": [
        "5.4: Physics-Informed Neural Networks (PINNs)\n",
        "\n",
        "(a) Explain the principle behind Physics-Informed Neural Networks (PINNs) and how they integrate the knowledge of differential equations into neural network architectures.\n",
        "(b) Discuss the application of PINNs in solving PDEs and system identification. Provide an example where PINNs offer advantages over traditional numerical methods.\n"
      ],
      "metadata": {
        "id": "k2juBZ2qelL6"
      }
    },
    {
      "cell_type": "markdown",
      "source": [],
      "metadata": {
        "id": "r8fm5u0kenw6"
      }
    },
    {
      "cell_type": "markdown",
      "source": [
        "5.5: PINN applications\n",
        "\n",
        "(a) Reflect on the potential of PINNs in advancing scientific research. What are the limitations and challenges of PINNs that researchers should be aware of?\n",
        "(b) Considering the evolution from basic neural network models to advanced concepts like PINNs, predict future directions in machine learning applications in physical sciences.\n",
        "."
      ],
      "metadata": {
        "id": "o22empdjen4C"
      }
    },
    {
      "cell_type": "markdown",
      "source": [],
      "metadata": {
        "id": "aSgDDUKheo77"
      }
    },
    {
      "cell_type": "markdown",
      "source": [
        "5.6: Applications of PINNs\n",
        "\n",
        "Propose a novel application of PINNs in a field of your choice. Describe the problem, how PINNs could be applied, and the expected outcomes of such an application"
      ],
      "metadata": {
        "id": "vamsoR8reqwa"
      }
    }
  ]
}