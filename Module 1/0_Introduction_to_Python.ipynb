{
  "cells": [
    {
      "cell_type": "markdown",
      "metadata": {
        "id": "view-in-github",
        "colab_type": "text"
      },
      "source": [
        "<a href=\"https://colab.research.google.com/github/SergeiVKalinin/MSE_Spring2024/blob/main/Module%201/0_Introduction_to_Python.ipynb\" target=\"_parent\"><img src=\"https://colab.research.google.com/assets/colab-badge.svg\" alt=\"Open In Colab\"/></a>"
      ]
    },
    {
      "cell_type": "markdown",
      "metadata": {
        "id": "8yNpKAhtYf7O"
      },
      "source": [
        "# Introduction to Python\n",
        "\n",
        "- Based on notebooks developed by Suhas Somhath (2018), https://scholar.google.com/citations?hl=en&user=ti-2g0IAAAAJ\n",
        "- Adaptation by Sergei Kalinin (2023), sergei2@utk.edu\n",
        "- For UTK MSE Spring 2024 Course"
      ]
    },
    {
      "cell_type": "markdown",
      "metadata": {
        "id": "BuIEhmh6Yf7S"
      },
      "source": [
        "## Interactive\n",
        "\n",
        "Unlike compiled languages like C / Fortran / Java etc, python is an interactive and interpreted language meaning that you can use it like a calculator executing one command at a time instead of having to compile a giant set of commands:"
      ]
    },
    {
      "cell_type": "code",
      "execution_count": 1,
      "metadata": {
        "id": "FLtUu-ahYf7S",
        "outputId": "4f462ace-295e-4703-d289-217e2d57e6e0",
        "colab": {
          "base_uri": "https://localhost:8080/"
        }
      },
      "outputs": [
        {
          "output_type": "execute_result",
          "data": {
            "text/plain": [
              "16"
            ]
          },
          "metadata": {},
          "execution_count": 1
        }
      ],
      "source": [
        "1 + 15"
      ]
    },
    {
      "cell_type": "code",
      "execution_count": 2,
      "metadata": {
        "id": "c2K9kqZtYf7U",
        "outputId": "feba26b9-0706-4acd-9255-adb42bb70ad5",
        "colab": {
          "base_uri": "https://localhost:8080/"
        }
      },
      "outputs": [
        {
          "output_type": "execute_result",
          "data": {
            "text/plain": [
              "32"
            ]
          },
          "metadata": {},
          "execution_count": 2
        }
      ],
      "source": [
        "2 ** 5"
      ]
    },
    {
      "cell_type": "markdown",
      "metadata": {
        "id": "9g59T_TyYf7U"
      },
      "source": [
        "## Variables\n",
        "\n",
        "The basic components of (scientific) python are variables that can hold values that can be changed later on.\n",
        "\n",
        "We create variables as:\n",
        "\n",
        "``variable_name = value``"
      ]
    },
    {
      "cell_type": "code",
      "execution_count": 3,
      "metadata": {
        "id": "BJEdu3ZpYf7U",
        "outputId": "eadc8036-a3e2-4c78-8c94-b274ba7f339a",
        "colab": {
          "base_uri": "https://localhost:8080/"
        }
      },
      "outputs": [
        {
          "output_type": "stream",
          "name": "stdout",
          "text": [
            "100 hello 3.147 True\n"
          ]
        }
      ],
      "source": [
        "my_integer_variable = 100\n",
        "my_string_variable = 'hello'\n",
        "my_floating_pt_variable = 3.147\n",
        "my_boolean_value = True\n",
        "\n",
        "print(my_integer_variable, my_string_variable, my_floating_pt_variable, my_boolean_value)"
      ]
    },
    {
      "cell_type": "markdown",
      "metadata": {
        "id": "_hooo7GDYf7V"
      },
      "source": [
        "There are certain rules for naming variables:\n",
        "* Should not start with a number\n",
        "* Should not use reserved words like print, for, if, else etc.\n",
        "* Can use characters like '_' but not { or [ or ( or - or * or & ....\n",
        "\n",
        "Try these out:"
      ]
    },
    {
      "cell_type": "code",
      "execution_count": 4,
      "metadata": {
        "id": "34iGmII7Yf7V",
        "outputId": "8883074a-fde4-449b-9482-880035f312c4",
        "colab": {
          "base_uri": "https://localhost:8080/",
          "height": 140
        }
      },
      "outputs": [
        {
          "output_type": "error",
          "ename": "SyntaxError",
          "evalue": "invalid decimal literal (<ipython-input-4-408f771445fc>, line 1)",
          "traceback": [
            "\u001b[0;36m  File \u001b[0;32m\"<ipython-input-4-408f771445fc>\"\u001b[0;36m, line \u001b[0;32m1\u001b[0m\n\u001b[0;31m    3rd_value = 4\u001b[0m\n\u001b[0m    ^\u001b[0m\n\u001b[0;31mSyntaxError\u001b[0m\u001b[0;31m:\u001b[0m invalid decimal literal\n"
          ]
        }
      ],
      "source": [
        "3rd_value = 4"
      ]
    },
    {
      "cell_type": "markdown",
      "metadata": {
        "id": "dPo7ejv3Yf7V"
      },
      "source": [
        "# Lists\n",
        "As the name implies, such objects can contain a set of items like numbers, strings, or even lists, etc."
      ]
    },
    {
      "cell_type": "code",
      "execution_count": 10,
      "metadata": {
        "id": "oDussNgaYf7W",
        "outputId": "7d467c6f-73ac-4ac6-f846-ef6fda2270b6",
        "colab": {
          "base_uri": "https://localhost:8080/"
        }
      },
      "outputs": [
        {
          "output_type": "stream",
          "name": "stdout",
          "text": [
            "[1, -2.345, 'hello', True]\n"
          ]
        }
      ],
      "source": [
        "my_list = [1, -2.345, 'hello', True]\n",
        "print(my_list)"
      ]
    },
    {
      "cell_type": "markdown",
      "metadata": {
        "id": "ZgrWSabTYf7W"
      },
      "source": [
        "### Length:"
      ]
    },
    {
      "cell_type": "code",
      "execution_count": 11,
      "metadata": {
        "id": "EtpVid5SYf7W",
        "outputId": "d6217340-4ddf-41b3-b43e-3086f12a802c",
        "colab": {
          "base_uri": "https://localhost:8080/"
        }
      },
      "outputs": [
        {
          "output_type": "execute_result",
          "data": {
            "text/plain": [
              "4"
            ]
          },
          "metadata": {},
          "execution_count": 11
        }
      ],
      "source": [
        "len(my_list)"
      ]
    },
    {
      "cell_type": "markdown",
      "metadata": {
        "id": "TgEWn0MDYf7W"
      },
      "source": [
        "## Indexing\n",
        "Let's say that we are interested in getting the second value in the list above. In python, this translates to getting the item at index ``1`` and not ``2`` since **python starts counting from index 0**.\n",
        "\n",
        "Just typing \"``my_list``\" would result in the entire list. We can find the item at the ``1st`` index by adding the suffix: **[1]**"
      ]
    },
    {
      "cell_type": "code",
      "execution_count": 12,
      "metadata": {
        "id": "uXHTKMzAYf7X",
        "outputId": "9524ae8a-34fb-4abb-b881-e4299f56b97e",
        "colab": {
          "base_uri": "https://localhost:8080/"
        }
      },
      "outputs": [
        {
          "output_type": "execute_result",
          "data": {
            "text/plain": [
              "-2.345"
            ]
          },
          "metadata": {},
          "execution_count": 12
        }
      ],
      "source": [
        "my_list[1]"
      ]
    },
    {
      "cell_type": "code",
      "execution_count": 13,
      "metadata": {
        "id": "PoPDVefJYf7X",
        "outputId": "aa3be135-bb5f-4965-8f46-8cb2d1e0d0cf",
        "colab": {
          "base_uri": "https://localhost:8080/",
          "height": 36
        }
      },
      "outputs": [
        {
          "output_type": "execute_result",
          "data": {
            "text/plain": [
              "'hello'"
            ],
            "application/vnd.google.colaboratory.intrinsic+json": {
              "type": "string"
            }
          },
          "metadata": {},
          "execution_count": 13
        }
      ],
      "source": [
        "my_list[2]"
      ]
    },
    {
      "cell_type": "markdown",
      "metadata": {
        "id": "xdvgVQAyYf7X"
      },
      "source": [
        "By the same token, if the object has length ``N``, the last index is ``N-1`` and **not** ``N``. Thus, the following line would result in an error:"
      ]
    },
    {
      "cell_type": "code",
      "execution_count": 14,
      "metadata": {
        "id": "GDF_2EONYf7X",
        "outputId": "da6bae44-41f5-4eb4-cb7c-157869dbd185",
        "colab": {
          "base_uri": "https://localhost:8080/",
          "height": 175
        }
      },
      "outputs": [
        {
          "output_type": "error",
          "ename": "IndexError",
          "evalue": "list index out of range",
          "traceback": [
            "\u001b[0;31m---------------------------------------------------------------------------\u001b[0m",
            "\u001b[0;31mIndexError\u001b[0m                                Traceback (most recent call last)",
            "\u001b[0;32m<ipython-input-14-d598c93259b0>\u001b[0m in \u001b[0;36m<cell line: 1>\u001b[0;34m()\u001b[0m\n\u001b[0;32m----> 1\u001b[0;31m \u001b[0mmy_list\u001b[0m\u001b[0;34m[\u001b[0m\u001b[0mlen\u001b[0m\u001b[0;34m(\u001b[0m\u001b[0mmy_list\u001b[0m\u001b[0;34m)\u001b[0m\u001b[0;34m]\u001b[0m\u001b[0;34m\u001b[0m\u001b[0;34m\u001b[0m\u001b[0m\n\u001b[0m",
            "\u001b[0;31mIndexError\u001b[0m: list index out of range"
          ]
        }
      ],
      "source": [
        "my_list[len(my_list)]"
      ]
    },
    {
      "cell_type": "markdown",
      "metadata": {
        "id": "DXiX6wkfYf7X"
      },
      "source": [
        "One can also get a subset of the list as ``object[start:end]``. Note that this is equivalent to a list of ``object[start], object[start+1], .... object[end-2], object[end-1]``. ``object[end]`` is **not** included!"
      ]
    },
    {
      "cell_type": "code",
      "execution_count": 33,
      "metadata": {
        "id": "GweaZFp_Yf7Y",
        "outputId": "2baf9c84-6991-4a61-893f-1ff00ec8d2a6",
        "colab": {
          "base_uri": "https://localhost:8080/"
        }
      },
      "outputs": [
        {
          "output_type": "execute_result",
          "data": {
            "text/plain": [
              "[1, -2.345]"
            ]
          },
          "metadata": {},
          "execution_count": 33
        }
      ],
      "source": [
        "my_list[0:2]"
      ]
    },
    {
      "cell_type": "markdown",
      "metadata": {
        "id": "Hdgc6jMCYf7Y"
      },
      "source": [
        "### Appending:"
      ]
    },
    {
      "cell_type": "code",
      "execution_count": 34,
      "metadata": {
        "id": "dwkN7-GEYf7Y",
        "outputId": "66197591-3c87-4d0b-a685-8381b50975cd",
        "colab": {
          "base_uri": "https://localhost:8080/"
        }
      },
      "outputs": [
        {
          "output_type": "execute_result",
          "data": {
            "text/plain": [
              "[1, -2.345, 'hello', True, 'bye']"
            ]
          },
          "metadata": {},
          "execution_count": 34
        }
      ],
      "source": [
        "my_list.append('bye')\n",
        "my_list"
      ]
    },
    {
      "cell_type": "markdown",
      "metadata": {
        "id": "2lWrUgk9Yf7Y"
      },
      "source": [
        "### Changing an entry:"
      ]
    },
    {
      "cell_type": "code",
      "execution_count": 35,
      "metadata": {
        "id": "sxB9TAYCYf7Y",
        "outputId": "a7d85821-37be-4b21-8ba2-13c174133629",
        "colab": {
          "base_uri": "https://localhost:8080/"
        }
      },
      "outputs": [
        {
          "output_type": "execute_result",
          "data": {
            "text/plain": [
              "[1, 5.678, 'hello', True, 'bye']"
            ]
          },
          "metadata": {},
          "execution_count": 35
        }
      ],
      "source": [
        "my_list[1] = 5.678\n",
        "my_list"
      ]
    },
    {
      "cell_type": "markdown",
      "metadata": {
        "id": "5y0XM2y9Yf7Y"
      },
      "source": [
        "## Conditional\n",
        "\n",
        "Python offers if-elif-else for performing separate operations depending on certain conditions"
      ]
    },
    {
      "cell_type": "code",
      "execution_count": 36,
      "metadata": {
        "id": "p_RhZMxeYf7Z",
        "outputId": "14a8aa31-eb80-4706-a54f-da69f202eafc",
        "colab": {
          "base_uri": "https://localhost:8080/"
        }
      },
      "outputs": [
        {
          "output_type": "stream",
          "name": "stdout",
          "text": [
            "You are not old enough to drink\n"
          ]
        }
      ],
      "source": [
        "age = 20\n",
        "if age >= 21:\n",
        "    print('You are old enough to drink')\n",
        "else:\n",
        "    print('You are not old enough to drink')"
      ]
    },
    {
      "cell_type": "markdown",
      "metadata": {
        "id": "Xx-l_ywoYf7Z"
      },
      "source": [
        "**Note: Python is VERY particular about indentation**. Use the ``Tab`` key to move right by four spaces or the ``Shift``+``Tab`` key to move left one level\n",
        "\n",
        "Adding additional conditions via **elif**:"
      ]
    },
    {
      "cell_type": "code",
      "execution_count": 37,
      "metadata": {
        "id": "aQPKmebiYf7Z",
        "outputId": "001a11d7-5b94-494f-9783-353f9e90c4cc",
        "colab": {
          "base_uri": "https://localhost:8080/"
        }
      },
      "outputs": [
        {
          "output_type": "stream",
          "name": "stdout",
          "text": [
            "You can have a soda if you like\n"
          ]
        }
      ],
      "source": [
        "if age >= 21:\n",
        "    print('You are old enough to drink')\n",
        "elif age > 10:\n",
        "    print('You can have a soda if you like')\n",
        "else:\n",
        "    print('You are not old enough to drink')"
      ]
    },
    {
      "cell_type": "markdown",
      "metadata": {
        "id": "li08gnFxYf7Z"
      },
      "source": [
        "## Loops\n",
        "\n",
        "In many cases we need to perform the same operation multiple times. For such cases, we could use **for** or **while** loops depending on which works better\n",
        "\n",
        "### For loops\n",
        "These are great when the number of iterations is clearly known:"
      ]
    },
    {
      "cell_type": "code",
      "execution_count": 38,
      "metadata": {
        "id": "iFnE9QSYYf7Z",
        "outputId": "96a12656-37e4-4abe-ef03-0fcf1b90c6ba",
        "colab": {
          "base_uri": "https://localhost:8080/"
        }
      },
      "outputs": [
        {
          "output_type": "stream",
          "name": "stdout",
          "text": [
            "1\n",
            "5.678\n",
            "hello\n",
            "True\n",
            "bye\n"
          ]
        }
      ],
      "source": [
        "for item in my_list:\n",
        "    print(item)"
      ]
    },
    {
      "cell_type": "markdown",
      "metadata": {
        "id": "HRPyatvlYf7Z"
      },
      "source": [
        "### While loops\n",
        "These are great when you want some thing to keep happening over an **unknownn number of iterations** till a certain condition is met."
      ]
    },
    {
      "cell_type": "code",
      "execution_count": 39,
      "metadata": {
        "id": "bk9CwI-xYf7Z",
        "outputId": "2533e0db-1082-4ac7-8f4d-16c2eecb2609",
        "colab": {
          "base_uri": "https://localhost:8080/"
        }
      },
      "outputs": [
        {
          "output_type": "stream",
          "name": "stdout",
          "text": [
            "Cannot drive yet, you are only 15 years old\n",
            "Cannot drive yet, you are only 16 years old\n",
            "Cannot drive yet, you are only 17 years old\n",
            "You can finally drive now that you are 18 years old\n"
          ]
        }
      ],
      "source": [
        "age = 15\n",
        "while age < 18:\n",
        "    print('Cannot drive yet, you are only {} years old'.format(age))\n",
        "    age = age + 1\n",
        "print('You can finally drive now that you are {} years old'.format(age))"
      ]
    },
    {
      "cell_type": "markdown",
      "metadata": {
        "id": "GYuqtjycYf7a"
      },
      "source": [
        "## Functions\n",
        "\n",
        "Functions allow us to wrap a few lines of code so that it can be reused multiple times quickly in different places."
      ]
    },
    {
      "cell_type": "code",
      "execution_count": 40,
      "metadata": {
        "id": "YqYcmK1eYf7a",
        "outputId": "48f4f5ae-9ecc-4e04-b7f2-a9122205b21c",
        "colab": {
          "base_uri": "https://localhost:8080/"
        }
      },
      "outputs": [
        {
          "output_type": "stream",
          "name": "stdout",
          "text": [
            "hello world!\n"
          ]
        }
      ],
      "source": [
        "def welcome():\n",
        "    print('hello world!')\n",
        "\n",
        "welcome()"
      ]
    },
    {
      "cell_type": "markdown",
      "metadata": {
        "id": "Y4Z_UKTgYf7a"
      },
      "source": [
        "These functions can take variables as inputs..."
      ]
    },
    {
      "cell_type": "code",
      "execution_count": 41,
      "metadata": {
        "id": "jGj99kzTYf7a",
        "outputId": "dc257f79-5890-4b68-a049-5488c1345f1e",
        "colab": {
          "base_uri": "https://localhost:8080/"
        }
      },
      "outputs": [
        {
          "output_type": "stream",
          "name": "stdout",
          "text": [
            "Dave is old enough to drive\n"
          ]
        }
      ],
      "source": [
        "def driving_eligibility(name, age):\n",
        "    if age >= 18:\n",
        "        print(name + ' is old enough to drive')\n",
        "    else:\n",
        "        print(name + ' is not old enough to drive')\n",
        "\n",
        "driving_eligibility('Dave', 19)"
      ]
    },
    {
      "cell_type": "markdown",
      "metadata": {
        "id": "TuN1D76FYf7a"
      },
      "source": [
        "The functions can also output some value when appropriate by **return**ing some value(s)"
      ]
    },
    {
      "cell_type": "code",
      "execution_count": 42,
      "metadata": {
        "id": "RMdOwM5OYf7a",
        "outputId": "6b00e117-73e4-4096-8ab3-17357cd1791b",
        "colab": {
          "base_uri": "https://localhost:8080/"
        }
      },
      "outputs": [
        {
          "output_type": "stream",
          "name": "stdout",
          "text": [
            "A person of age: 17 is allowed to drive: False\n"
          ]
        }
      ],
      "source": [
        "def eligible_to_drive(age):\n",
        "    if age >= 18:\n",
        "        return True\n",
        "    else:\n",
        "        return False\n",
        "\n",
        "age = 17\n",
        "result = eligible_to_drive(age)\n",
        "\n",
        "print('A person of age: {} is allowed to drive: {}'.format(age, result))"
      ]
    },
    {
      "cell_type": "markdown",
      "metadata": {
        "collapsed": true,
        "id": "kurs1Pc6Yf7a"
      },
      "source": [
        "## Boolean operations"
      ]
    },
    {
      "cell_type": "code",
      "execution_count": 43,
      "metadata": {
        "id": "tcfwwWawYf7a",
        "outputId": "4ccf21ac-e7c7-42c1-b4d6-79feb78429a2",
        "colab": {
          "base_uri": "https://localhost:8080/"
        }
      },
      "outputs": [
        {
          "output_type": "execute_result",
          "data": {
            "text/plain": [
              "False"
            ]
          },
          "metadata": {},
          "execution_count": 43
        }
      ],
      "source": [
        "True and False"
      ]
    },
    {
      "cell_type": "code",
      "execution_count": 44,
      "metadata": {
        "id": "LaGRjX4pYf7e",
        "outputId": "224558cd-f970-429a-f46a-987526a9d1c2",
        "colab": {
          "base_uri": "https://localhost:8080/"
        }
      },
      "outputs": [
        {
          "output_type": "execute_result",
          "data": {
            "text/plain": [
              "True"
            ]
          },
          "metadata": {},
          "execution_count": 44
        }
      ],
      "source": [
        "not False"
      ]
    },
    {
      "cell_type": "code",
      "execution_count": 45,
      "metadata": {
        "id": "UdzhPgLLYf7f",
        "outputId": "d86f0ea8-70f5-4336-d260-25ec32048af8",
        "colab": {
          "base_uri": "https://localhost:8080/"
        }
      },
      "outputs": [
        {
          "output_type": "execute_result",
          "data": {
            "text/plain": [
              "True"
            ]
          },
          "metadata": {},
          "execution_count": 45
        }
      ],
      "source": [
        "False or True"
      ]
    },
    {
      "cell_type": "markdown",
      "metadata": {
        "id": "-mZ4lvp2Yf7f"
      },
      "source": [
        "## Comparisons"
      ]
    },
    {
      "cell_type": "code",
      "execution_count": 46,
      "metadata": {
        "id": "hR4pmXdkYf7f",
        "outputId": "bef966c8-abc7-4bc7-dc38-680df35c8419",
        "colab": {
          "base_uri": "https://localhost:8080/"
        }
      },
      "outputs": [
        {
          "output_type": "execute_result",
          "data": {
            "text/plain": [
              "True"
            ]
          },
          "metadata": {},
          "execution_count": 46
        }
      ],
      "source": [
        "7 > 5"
      ]
    },
    {
      "cell_type": "code",
      "execution_count": 47,
      "metadata": {
        "id": "6VL5mCg3Yf7f",
        "outputId": "6373f6bb-2b6e-4e67-b91d-70d4e00856cd",
        "colab": {
          "base_uri": "https://localhost:8080/"
        }
      },
      "outputs": [
        {
          "output_type": "execute_result",
          "data": {
            "text/plain": [
              "True"
            ]
          },
          "metadata": {},
          "execution_count": 47
        }
      ],
      "source": [
        "5 <= 5"
      ]
    },
    {
      "cell_type": "markdown",
      "metadata": {
        "id": "7rJ5QdmEYf7f"
      },
      "source": [
        "The exclamation symbol is equivalent to **not**"
      ]
    },
    {
      "cell_type": "code",
      "execution_count": 48,
      "metadata": {
        "id": "PCAoVlJdYf7f",
        "outputId": "b1d99d78-1063-4d03-a2a9-5d90b8cae06a",
        "colab": {
          "base_uri": "https://localhost:8080/"
        }
      },
      "outputs": [
        {
          "output_type": "execute_result",
          "data": {
            "text/plain": [
              "True"
            ]
          },
          "metadata": {},
          "execution_count": 48
        }
      ],
      "source": [
        "6 != 4"
      ]
    },
    {
      "cell_type": "markdown",
      "metadata": {
        "id": "uaK_wbOlYf7f"
      },
      "source": [
        "## Datatypes:"
      ]
    },
    {
      "cell_type": "code",
      "execution_count": 49,
      "metadata": {
        "id": "7XLn_82PYf7g",
        "outputId": "ade5b860-6005-45f4-bdee-d531477c97f1",
        "colab": {
          "base_uri": "https://localhost:8080/"
        }
      },
      "outputs": [
        {
          "output_type": "execute_result",
          "data": {
            "text/plain": [
              "list"
            ]
          },
          "metadata": {},
          "execution_count": 49
        }
      ],
      "source": [
        "type([1,2,3])"
      ]
    },
    {
      "cell_type": "code",
      "execution_count": 50,
      "metadata": {
        "id": "_xIO9ZjTYf7g",
        "outputId": "856307e4-19bb-4171-ff30-81388d448ce4",
        "colab": {
          "base_uri": "https://localhost:8080/"
        }
      },
      "outputs": [
        {
          "output_type": "execute_result",
          "data": {
            "text/plain": [
              "tuple"
            ]
          },
          "metadata": {},
          "execution_count": 50
        }
      ],
      "source": [
        "type((1,2,3))"
      ]
    },
    {
      "cell_type": "code",
      "execution_count": 51,
      "metadata": {
        "id": "DVKr08xVYf7g",
        "outputId": "d0e5168d-a60e-4283-a5aa-d7db19f4bfe9",
        "colab": {
          "base_uri": "https://localhost:8080/"
        }
      },
      "outputs": [
        {
          "output_type": "execute_result",
          "data": {
            "text/plain": [
              "dict"
            ]
          },
          "metadata": {},
          "execution_count": 51
        }
      ],
      "source": [
        "type({'name': 'Bob', 'age': 20})"
      ]
    },
    {
      "cell_type": "code",
      "execution_count": 52,
      "metadata": {
        "id": "e8zbV_saYf7g",
        "outputId": "54d60157-bb44-4713-db92-ee4816fb301a",
        "colab": {
          "base_uri": "https://localhost:8080/"
        }
      },
      "outputs": [
        {
          "output_type": "execute_result",
          "data": {
            "text/plain": [
              "str"
            ]
          },
          "metadata": {},
          "execution_count": 52
        }
      ],
      "source": [
        "type('Hello')"
      ]
    },
    {
      "cell_type": "code",
      "execution_count": 53,
      "metadata": {
        "id": "mx36FD9qYf7g",
        "outputId": "32035db7-e2aa-4a1c-fc32-cb6d69b11796",
        "colab": {
          "base_uri": "https://localhost:8080/"
        }
      },
      "outputs": [
        {
          "output_type": "execute_result",
          "data": {
            "text/plain": [
              "bool"
            ]
          },
          "metadata": {},
          "execution_count": 53
        }
      ],
      "source": [
        "type(False)"
      ]
    },
    {
      "cell_type": "code",
      "execution_count": 54,
      "metadata": {
        "id": "7akPvMrAYf7g",
        "outputId": "9e1679f4-8e90-40be-8085-fc7774bc746d",
        "colab": {
          "base_uri": "https://localhost:8080/"
        }
      },
      "outputs": [
        {
          "output_type": "execute_result",
          "data": {
            "text/plain": [
              "float"
            ]
          },
          "metadata": {},
          "execution_count": 54
        }
      ],
      "source": [
        "type(1.0)"
      ]
    },
    {
      "cell_type": "code",
      "execution_count": 55,
      "metadata": {
        "id": "DLzJgwPxYf7g",
        "outputId": "bf760234-e706-4c9c-cebd-504115958daa",
        "colab": {
          "base_uri": "https://localhost:8080/"
        }
      },
      "outputs": [
        {
          "output_type": "execute_result",
          "data": {
            "text/plain": [
              "int"
            ]
          },
          "metadata": {},
          "execution_count": 55
        }
      ],
      "source": [
        "type(1)"
      ]
    },
    {
      "cell_type": "markdown",
      "metadata": {
        "collapsed": true,
        "id": "LCqgyKSNYf7g"
      },
      "source": [
        "### Tuples\n",
        "These objects are very similar to lists except that they are **immutable** in that one cannot add / remove / modify the contents of the object.\n",
        "\n",
        "We create tuples in the same way as lists, except that we use round parenthesis / braces instead:"
      ]
    },
    {
      "cell_type": "code",
      "execution_count": 56,
      "metadata": {
        "id": "o_L_K_UVYf7h",
        "outputId": "5c174233-2f79-415b-a25e-3f2af9efa45b",
        "colab": {
          "base_uri": "https://localhost:8080/"
        }
      },
      "outputs": [
        {
          "output_type": "execute_result",
          "data": {
            "text/plain": [
              "('hello', 55, -2.345, False)"
            ]
          },
          "metadata": {},
          "execution_count": 56
        }
      ],
      "source": [
        "my_tuple = ('hello', 55, -2.345, False)\n",
        "my_tuple"
      ]
    },
    {
      "cell_type": "markdown",
      "metadata": {
        "id": "ZJACggSPYf7h"
      },
      "source": [
        "As mentioned earlier, we cannot modify a tuple:"
      ]
    },
    {
      "cell_type": "code",
      "execution_count": 57,
      "metadata": {
        "id": "7pFvr8RVYf7h",
        "outputId": "065b40b0-384d-427b-c2d3-4c1f6378e7ff",
        "colab": {
          "base_uri": "https://localhost:8080/"
        }
      },
      "outputs": [
        {
          "output_type": "execute_result",
          "data": {
            "text/plain": [
              "55"
            ]
          },
          "metadata": {},
          "execution_count": 57
        }
      ],
      "source": [
        "my_tuple[1]"
      ]
    },
    {
      "cell_type": "code",
      "execution_count": 58,
      "metadata": {
        "id": "JBmX_9o0Yf7h",
        "outputId": "2147ceca-c6c1-409a-a422-f31f017393e0",
        "colab": {
          "base_uri": "https://localhost:8080/",
          "height": 175
        }
      },
      "outputs": [
        {
          "output_type": "error",
          "ename": "TypeError",
          "evalue": "'tuple' object does not support item assignment",
          "traceback": [
            "\u001b[0;31m---------------------------------------------------------------------------\u001b[0m",
            "\u001b[0;31mTypeError\u001b[0m                                 Traceback (most recent call last)",
            "\u001b[0;32m<ipython-input-58-e31047f7a9d2>\u001b[0m in \u001b[0;36m<cell line: 1>\u001b[0;34m()\u001b[0m\n\u001b[0;32m----> 1\u001b[0;31m \u001b[0mmy_tuple\u001b[0m\u001b[0;34m[\u001b[0m\u001b[0;36m1\u001b[0m\u001b[0;34m]\u001b[0m \u001b[0;34m=\u001b[0m \u001b[0;36m44\u001b[0m\u001b[0;34m\u001b[0m\u001b[0;34m\u001b[0m\u001b[0m\n\u001b[0m",
            "\u001b[0;31mTypeError\u001b[0m: 'tuple' object does not support item assignment"
          ]
        }
      ],
      "source": [
        "my_tuple[1] = 44"
      ]
    },
    {
      "cell_type": "markdown",
      "metadata": {
        "id": "R_kjgbEMYf7h"
      },
      "source": [
        "### Strings ~ Tuples of single-character strings\n",
        "We can apply the same \"indexing\" idea to find the second \"character\" in a string. Note that unlike C, Java, etc, python does not have a concept of \"characters\""
      ]
    },
    {
      "cell_type": "code",
      "execution_count": 59,
      "metadata": {
        "id": "iYjyuemCYf7h",
        "outputId": "56668575-59cf-4fdd-a190-48def828a628",
        "colab": {
          "base_uri": "https://localhost:8080/",
          "height": 36
        }
      },
      "outputs": [
        {
          "output_type": "execute_result",
          "data": {
            "text/plain": [
              "'e'"
            ],
            "application/vnd.google.colaboratory.intrinsic+json": {
              "type": "string"
            }
          },
          "metadata": {},
          "execution_count": 59
        }
      ],
      "source": [
        "my_string = 'hello'\n",
        "my_string[1]"
      ]
    },
    {
      "cell_type": "markdown",
      "metadata": {
        "id": "H50xikXUYf7h"
      },
      "source": [
        "Attempting to change the second character:"
      ]
    },
    {
      "cell_type": "code",
      "execution_count": 60,
      "metadata": {
        "id": "kHUFBN7wYf7h",
        "outputId": "8edc3a78-0089-4f44-e79b-db2b25841344",
        "colab": {
          "base_uri": "https://localhost:8080/",
          "height": 175
        }
      },
      "outputs": [
        {
          "output_type": "error",
          "ename": "TypeError",
          "evalue": "'str' object does not support item assignment",
          "traceback": [
            "\u001b[0;31m---------------------------------------------------------------------------\u001b[0m",
            "\u001b[0;31mTypeError\u001b[0m                                 Traceback (most recent call last)",
            "\u001b[0;32m<ipython-input-60-d93fc4f8c2fe>\u001b[0m in \u001b[0;36m<cell line: 1>\u001b[0;34m()\u001b[0m\n\u001b[0;32m----> 1\u001b[0;31m \u001b[0mmy_string\u001b[0m\u001b[0;34m[\u001b[0m\u001b[0;36m1\u001b[0m\u001b[0;34m]\u001b[0m \u001b[0;34m=\u001b[0m \u001b[0;34m'o'\u001b[0m\u001b[0;34m\u001b[0m\u001b[0;34m\u001b[0m\u001b[0m\n\u001b[0m",
            "\u001b[0;31mTypeError\u001b[0m: 'str' object does not support item assignment"
          ]
        }
      ],
      "source": [
        "my_string[1] = 'o'"
      ]
    },
    {
      "cell_type": "markdown",
      "metadata": {
        "id": "c9V6qvFSYf7h"
      },
      "source": [
        "## Dictionary\n",
        "\n",
        "This is a very handy object that allows the storage of **name-value** pairs. So, one could assign a name to a value instead of refering to it as the second value in a list.\n",
        "\n",
        "For example, if we wanted to store information (name, age, score) of all the people in a class, we could use a dictionary instead of a list:"
      ]
    },
    {
      "cell_type": "code",
      "execution_count": 87,
      "metadata": {
        "id": "8jD2SUVOYf7i"
      },
      "outputs": [],
      "source": [
        "student_1 = {'name': 'Harry',\n",
        "             'age': 20,\n",
        "             'score':89}"
      ]
    },
    {
      "cell_type": "markdown",
      "metadata": {
        "id": "uAzNvB1yYf7i"
      },
      "source": [
        "Now, if we wanted to find the age of the person, we could say:"
      ]
    },
    {
      "cell_type": "code",
      "execution_count": 88,
      "metadata": {
        "id": "Obhp4mcSYf7i",
        "outputId": "b0302dce-4900-4f5e-cde4-f54f28d19ecc",
        "colab": {
          "base_uri": "https://localhost:8080/"
        }
      },
      "outputs": [
        {
          "output_type": "execute_result",
          "data": {
            "text/plain": [
              "20"
            ]
          },
          "metadata": {},
          "execution_count": 88
        }
      ],
      "source": [
        "student_1['age']"
      ]
    },
    {
      "cell_type": "markdown",
      "metadata": {
        "id": "NsAAiFAyYf7i"
      },
      "source": [
        "Note that the dictionary may itself arrange the name-value pairs (**internally**) in any order unlike the order you see above. So **do not assume that the dictionary is sorted in a particular way**."
      ]
    },
    {
      "cell_type": "code",
      "execution_count": 89,
      "metadata": {
        "id": "GdLnuTHeYf7i",
        "outputId": "6aac85ab-b488-4aad-a836-94a46edf5fdb",
        "colab": {
          "base_uri": "https://localhost:8080/"
        }
      },
      "outputs": [
        {
          "output_type": "execute_result",
          "data": {
            "text/plain": [
              "{'name': 'Harry', 'age': 20, 'score': 89}"
            ]
          },
          "metadata": {},
          "execution_count": 89
        }
      ],
      "source": [
        "student_1"
      ]
    },
    {
      "cell_type": "markdown",
      "metadata": {
        "id": "fQpheMQkYf7i"
      },
      "source": [
        "## Packages = addons to python\n",
        "Python itself cannot do a whole lot but there are several packages for every need:\n",
        "![Python software stack from 2015](http://danielrothenberg.com/gcpy/_images/state_of_the_stack_2015.png)\n",
        "source: http://danielrothenberg.com/gcpy/python.html\n",
        "\n",
        "### Where to get packages?\n",
        "* ``pypi``[python package index](https://pypi.org/)\n",
        "* ``conda`` [conda forge](https://conda-forge.org/feedstocks/)\n",
        "\n",
        "### How to get packages?\n",
        "* [Anaconda](https://www.anaconda.com/download/) already comes with the most popular packages\n",
        "* Install as simply by typing ``pip install mypackage`` or ``conda install mypackage`` in your ``Anaconda Prompt`` (Windows) or a ``Terminal`` (Mac or Linux)"
      ]
    },
    {
      "cell_type": "code",
      "execution_count": 89,
      "metadata": {
        "id": "IbsaA3CIYf7i"
      },
      "outputs": [],
      "source": []
    },
    {
      "cell_type": "markdown",
      "metadata": {
        "id": "lWmTKclFYzdH"
      },
      "source": [
        "# Introduction to NumPy\n",
        "\n",
        "[Originally developed by Stefan](https://github.com/stefanv/imagexd_scientific_python) for the 2018 Image XD Workshop\n",
        "\n",
        "## What do I use NumPy for?\n",
        "  1. An array object of arbitrary homogeneous items\n",
        "  2. Fast mathematical operations over arrays\n",
        "  3. Linear Algebra, Fourier Transforms, Random Number Generation"
      ]
    },
    {
      "cell_type": "code",
      "execution_count": 90,
      "metadata": {
        "id": "66XBqmZWYzdJ",
        "outputId": "17526bd9-c4cb-4cf8-ed04-0f024b6d9585",
        "colab": {
          "base_uri": "https://localhost:8080/",
          "height": 36
        }
      },
      "outputs": [
        {
          "output_type": "execute_result",
          "data": {
            "text/plain": [
              "'1.23.5'"
            ],
            "application/vnd.google.colaboratory.intrinsic+json": {
              "type": "string"
            }
          },
          "metadata": {},
          "execution_count": 90
        }
      ],
      "source": [
        "import numpy as np\n",
        "import matplotlib.pyplot as plt\n",
        "np.__version__"
      ]
    },
    {
      "cell_type": "markdown",
      "metadata": {
        "id": "TZPiNSywYzdL"
      },
      "source": [
        "## Where to get help?\n",
        "\n",
        "- http://docs.scipy.org\n",
        "- Forums: mailing list, http://stackoverflow.com\n",
        "\n",
        "## Where do I learn more?\n",
        "\n",
        "- <a href=\"http://mentat.za.net/numpy/intro/intro.html\">NumPy introductory tutorial</a>\n",
        "- <a href=\"http://scipy-lectures.github.com\">SciPy Lectures</a>"
      ]
    },
    {
      "cell_type": "markdown",
      "metadata": {
        "id": "H6VGEvTYYzdL"
      },
      "source": [
        "## The structure of a NumPy array\n",
        "Contiguous sequence of data"
      ]
    },
    {
      "cell_type": "markdown",
      "metadata": {
        "id": "heszHSeZYzdL"
      },
      "source": [
        "## Creating arrays\n",
        "\n",
        "### 1D arrays"
      ]
    },
    {
      "cell_type": "code",
      "execution_count": 91,
      "metadata": {
        "id": "wizWM7WdYzdL",
        "outputId": "3e052d46-00f3-4701-e395-e94032574c23",
        "colab": {
          "base_uri": "https://localhost:8080/"
        }
      },
      "outputs": [
        {
          "output_type": "execute_result",
          "data": {
            "text/plain": [
              "array([0, 1, 2, 3, 4])"
            ]
          },
          "metadata": {},
          "execution_count": 91
        }
      ],
      "source": [
        "np.arange(5)"
      ]
    },
    {
      "cell_type": "code",
      "execution_count": 92,
      "metadata": {
        "id": "W0uXvhtJYzdM",
        "outputId": "83e9a892-5049-4bb8-9299-0a485d61c42d",
        "colab": {
          "base_uri": "https://localhost:8080/"
        }
      },
      "outputs": [
        {
          "output_type": "execute_result",
          "data": {
            "text/plain": [
              "array([2, 4, 6])"
            ]
          },
          "metadata": {},
          "execution_count": 92
        }
      ],
      "source": [
        "# start, stop, step\n",
        "np.arange(2, 8, 2)"
      ]
    },
    {
      "cell_type": "code",
      "execution_count": 93,
      "metadata": {
        "id": "KzwLHBhBYzdM",
        "outputId": "9d14e4f8-3d11-42e7-efbe-e1e150575c36",
        "colab": {
          "base_uri": "https://localhost:8080/"
        }
      },
      "outputs": [
        {
          "output_type": "execute_result",
          "data": {
            "text/plain": [
              "array([0. , 0.1, 0.2, 0.3, 0.4, 0.5, 0.6, 0.7, 0.8, 0.9, 1. ])"
            ]
          },
          "metadata": {},
          "execution_count": 93
        }
      ],
      "source": [
        "np.linspace(0, 1, num=11)"
      ]
    },
    {
      "cell_type": "markdown",
      "metadata": {
        "id": "HM2T-RwBYzdN"
      },
      "source": [
        "### Multidimensional datasets"
      ]
    },
    {
      "cell_type": "code",
      "execution_count": 94,
      "metadata": {
        "id": "F0NEHfNSYzdN",
        "outputId": "5d1a491d-6867-4f57-de3b-8da5aa1aa8e1",
        "colab": {
          "base_uri": "https://localhost:8080/"
        }
      },
      "outputs": [
        {
          "output_type": "execute_result",
          "data": {
            "text/plain": [
              "array([[0.53855171, 0.22137087, 0.30663633, 0.67005496],\n",
              "       [0.00101419, 0.80727679, 0.14145662, 0.9160278 ],\n",
              "       [0.99302765, 0.72354626, 0.54255302, 0.46811745]])"
            ]
          },
          "metadata": {},
          "execution_count": 94
        }
      ],
      "source": [
        "np.random.rand(3, 4)"
      ]
    },
    {
      "cell_type": "code",
      "execution_count": 95,
      "metadata": {
        "id": "R4L4g8EvYzdN",
        "outputId": "abf7f640-1c3d-4eb2-a541-88480c04a788",
        "colab": {
          "base_uri": "https://localhost:8080/"
        }
      },
      "outputs": [
        {
          "output_type": "execute_result",
          "data": {
            "text/plain": [
              "array([[0., 0., 0.],\n",
              "       [0., 0., 0.],\n",
              "       [0., 0., 0.]])"
            ]
          },
          "metadata": {},
          "execution_count": 95
        }
      ],
      "source": [
        "np.zeros((3,3))"
      ]
    },
    {
      "cell_type": "code",
      "execution_count": 96,
      "metadata": {
        "id": "7R-niJo7YzdN",
        "outputId": "53f1cd32-4655-4a9b-ffff-dae91ccaa81d",
        "colab": {
          "base_uri": "https://localhost:8080/"
        }
      },
      "outputs": [
        {
          "output_type": "execute_result",
          "data": {
            "text/plain": [
              "array([[1., 1., 1., 1., 1.],\n",
              "       [1., 1., 1., 1., 1.]])"
            ]
          },
          "metadata": {},
          "execution_count": 96
        }
      ],
      "source": [
        "np.ones((2, 5))"
      ]
    },
    {
      "cell_type": "code",
      "execution_count": 97,
      "metadata": {
        "id": "Ly_HiCzBYzdN",
        "outputId": "b795f349-7677-4a7c-db70-e60c583bb4a5",
        "colab": {
          "base_uri": "https://localhost:8080/"
        }
      },
      "outputs": [
        {
          "output_type": "execute_result",
          "data": {
            "text/plain": [
              "array([[ 1,  0,  0],\n",
              "       [ 0, -2,  0],\n",
              "       [ 0,  0,  3]])"
            ]
          },
          "metadata": {},
          "execution_count": 97
        }
      ],
      "source": [
        "np.diag([1, -2, 3])"
      ]
    },
    {
      "cell_type": "code",
      "execution_count": 98,
      "metadata": {
        "id": "ohvIClFKYzdO",
        "outputId": "c308840a-1e6f-4b38-c4f8-a7eeed4072c0",
        "colab": {
          "base_uri": "https://localhost:8080/"
        }
      },
      "outputs": [
        {
          "output_type": "execute_result",
          "data": {
            "text/plain": [
              "array([[1, 4],\n",
              "       [2, 8]], dtype=uint8)"
            ]
          },
          "metadata": {},
          "execution_count": 98
        }
      ],
      "source": [
        "np.array([[1, 4], [2, 8]], dtype=np.uint8)"
      ]
    },
    {
      "cell_type": "markdown",
      "metadata": {
        "id": "JGOKTtZUYzdO"
      },
      "source": [
        "## Properties"
      ]
    },
    {
      "cell_type": "code",
      "execution_count": 99,
      "metadata": {
        "id": "NWoVw4cmYzdO",
        "outputId": "5f4ce55d-d843-4c44-9804-b345f1f970f1",
        "colab": {
          "base_uri": "https://localhost:8080/"
        }
      },
      "outputs": [
        {
          "output_type": "execute_result",
          "data": {
            "text/plain": [
              "(3, 5)"
            ]
          },
          "metadata": {},
          "execution_count": 99
        }
      ],
      "source": [
        "x = np.random.rand(3, 5)\n",
        "x.shape"
      ]
    },
    {
      "cell_type": "code",
      "execution_count": 100,
      "metadata": {
        "id": "OewlTS4zYzdO",
        "outputId": "5d30df83-8015-435e-e4c9-23977ded7156",
        "colab": {
          "base_uri": "https://localhost:8080/"
        }
      },
      "outputs": [
        {
          "output_type": "execute_result",
          "data": {
            "text/plain": [
              "15"
            ]
          },
          "metadata": {},
          "execution_count": 100
        }
      ],
      "source": [
        "x.size"
      ]
    },
    {
      "cell_type": "code",
      "execution_count": 101,
      "metadata": {
        "id": "iC1SL2NKYzdP",
        "outputId": "7cc45626-ab86-489e-b322-b25fac15a328",
        "colab": {
          "base_uri": "https://localhost:8080/"
        }
      },
      "outputs": [
        {
          "output_type": "execute_result",
          "data": {
            "text/plain": [
              "dtype('float64')"
            ]
          },
          "metadata": {},
          "execution_count": 101
        }
      ],
      "source": [
        "x.dtype"
      ]
    },
    {
      "cell_type": "markdown",
      "metadata": {
        "id": "lC0j4c5IYzdP"
      },
      "source": [
        "## Editing / Populating"
      ]
    },
    {
      "cell_type": "code",
      "execution_count": 102,
      "metadata": {
        "id": "rcO_k2IsYzdP",
        "outputId": "ed95e583-5aa2-4b96-b0e8-b671afd216c1",
        "colab": {
          "base_uri": "https://localhost:8080/"
        }
      },
      "outputs": [
        {
          "output_type": "stream",
          "name": "stdout",
          "text": [
            "[0 1 2 3 4]\n",
            "afer modification:\n",
            "[   0 -700    2    3    4]\n"
          ]
        }
      ],
      "source": [
        "x = np.arange(5)\n",
        "print(x)\n",
        "x[1] = -700\n",
        "print('afer modification:')\n",
        "print(x)"
      ]
    },
    {
      "cell_type": "markdown",
      "metadata": {
        "id": "EMELZyYgYzdP"
      },
      "source": [
        "## Transpose and Reshaping"
      ]
    },
    {
      "cell_type": "code",
      "execution_count": 103,
      "metadata": {
        "id": "GzbOWsgoYzdP",
        "outputId": "edcef359-ed0f-4d0a-e8ef-0fcdacd130ab",
        "colab": {
          "base_uri": "https://localhost:8080/"
        }
      },
      "outputs": [
        {
          "output_type": "execute_result",
          "data": {
            "text/plain": [
              "array([[3, 3, 3],\n",
              "       [4, 3, 4]])"
            ]
          },
          "metadata": {},
          "execution_count": 103
        }
      ],
      "source": [
        "x = np.random.randint(0, high=10, size=(2,3))\n",
        "x"
      ]
    },
    {
      "cell_type": "markdown",
      "metadata": {
        "id": "eYOpBoDkYzdP"
      },
      "source": [
        "### Transpose"
      ]
    },
    {
      "cell_type": "code",
      "execution_count": 104,
      "metadata": {
        "id": "tZuF6e7dYzdQ",
        "outputId": "ccdb566e-8ec6-4837-fe07-935ebba6f747",
        "colab": {
          "base_uri": "https://localhost:8080/"
        }
      },
      "outputs": [
        {
          "output_type": "execute_result",
          "data": {
            "text/plain": [
              "array([[3, 4],\n",
              "       [3, 3],\n",
              "       [3, 4]])"
            ]
          },
          "metadata": {},
          "execution_count": 104
        }
      ],
      "source": [
        "x.T"
      ]
    },
    {
      "cell_type": "markdown",
      "metadata": {
        "id": "qNsZcjeEYzdQ"
      },
      "source": [
        "### Reshape"
      ]
    },
    {
      "cell_type": "code",
      "execution_count": 105,
      "metadata": {
        "id": "boLLMS2JYzdQ",
        "outputId": "3c309c26-c663-4630-dcd8-d0a268b2c3e0",
        "colab": {
          "base_uri": "https://localhost:8080/"
        }
      },
      "outputs": [
        {
          "output_type": "execute_result",
          "data": {
            "text/plain": [
              "array([[3],\n",
              "       [3],\n",
              "       [3],\n",
              "       [4],\n",
              "       [3],\n",
              "       [4]])"
            ]
          },
          "metadata": {},
          "execution_count": 105
        }
      ],
      "source": [
        "x.reshape(6, 1)"
      ]
    },
    {
      "cell_type": "markdown",
      "metadata": {
        "id": "CuE7R4GJYzdQ"
      },
      "source": [
        "## Operations"
      ]
    },
    {
      "cell_type": "code",
      "execution_count": 106,
      "metadata": {
        "id": "HgecfDm6YzdQ",
        "outputId": "74dd259f-6222-49ab-d079-cd8b359bc7ec",
        "colab": {
          "base_uri": "https://localhost:8080/"
        }
      },
      "outputs": [
        {
          "output_type": "stream",
          "name": "stdout",
          "text": [
            "x: [0 1 2 3 4]\n",
            "y: [7 5 8 9 3]\n"
          ]
        },
        {
          "output_type": "execute_result",
          "data": {
            "text/plain": [
              "array([ 7,  6, 10, 12,  7])"
            ]
          },
          "metadata": {},
          "execution_count": 106
        }
      ],
      "source": [
        "x = np.arange(5)\n",
        "y = np.random.randint(0, high=10, size=5)\n",
        "print('x:', x)\n",
        "print('y:', y)\n",
        "x + y"
      ]
    },
    {
      "cell_type": "markdown",
      "metadata": {
        "id": "azTBl9rIYzdQ"
      },
      "source": [
        "### Broadcasting:"
      ]
    },
    {
      "cell_type": "code",
      "execution_count": 107,
      "metadata": {
        "id": "bmOVHAvAYzdR",
        "outputId": "fb0f3f2a-84d0-4649-f2b7-b7930cdcfe04",
        "colab": {
          "base_uri": "https://localhost:8080/"
        }
      },
      "outputs": [
        {
          "output_type": "stream",
          "name": "stdout",
          "text": [
            "x:\n",
            " [[ 0  1  2]\n",
            " [ 3  4  5]\n",
            " [ 6  7  8]\n",
            " [ 9 10 11]\n",
            " [12 13 14]]\n",
            "y:\n",
            " [ 0  0 -1]\n"
          ]
        },
        {
          "output_type": "execute_result",
          "data": {
            "text/plain": [
              "array([[ 0,  1,  1],\n",
              "       [ 3,  4,  4],\n",
              "       [ 6,  7,  7],\n",
              "       [ 9, 10, 10],\n",
              "       [12, 13, 13]])"
            ]
          },
          "metadata": {},
          "execution_count": 107
        }
      ],
      "source": [
        "x = np.arange(15).reshape(5, 3)\n",
        "y = np.random.randint(-1, high=1, size=3)\n",
        "print('x:\\n', x)\n",
        "print('y:\\n', y)\n",
        "x + y"
      ]
    },
    {
      "cell_type": "code",
      "execution_count": 108,
      "metadata": {
        "id": "hR0e1rJQYzdR",
        "outputId": "248db2d4-120e-491e-b8ef-6c589f5560c4",
        "colab": {
          "base_uri": "https://localhost:8080/",
          "height": 430
        }
      },
      "outputs": [
        {
          "output_type": "display_data",
          "data": {
            "text/plain": [
              "<Figure size 640x480 with 1 Axes>"
            ],
            "image/png": "[encoded data removed]"
          },
          "metadata": {}
        }
      ],
      "source": [
        "x = np.linspace(0, 2 * np.pi, 1000)\n",
        "y = np.sin(x) ** 3\n",
        "\n",
        "plt.plot(x, y);"
      ]
    },
    {
      "cell_type": "markdown",
      "metadata": {
        "id": "a7t5xtlQYzdR"
      },
      "source": [
        "## Indexing and Slicing"
      ]
    },
    {
      "cell_type": "code",
      "execution_count": 109,
      "metadata": {
        "id": "Kb-ffR0DYzdR",
        "outputId": "1164af9c-40e2-4bee-9097-c9bcfa549875",
        "colab": {
          "base_uri": "https://localhost:8080/"
        }
      },
      "outputs": [
        {
          "output_type": "execute_result",
          "data": {
            "text/plain": [
              "array([[1, 2, 3],\n",
              "       [3, 2, 1]])"
            ]
          },
          "metadata": {},
          "execution_count": 109
        }
      ],
      "source": [
        "x = np.array([[1, 2, 3], [3, 2, 1]])\n",
        "x"
      ]
    },
    {
      "cell_type": "code",
      "execution_count": 110,
      "metadata": {
        "id": "1xfaYW46YzdR",
        "outputId": "989e0261-67de-4826-8343-08ebb7fa01c8",
        "colab": {
          "base_uri": "https://localhost:8080/"
        }
      },
      "outputs": [
        {
          "output_type": "execute_result",
          "data": {
            "text/plain": [
              "2"
            ]
          },
          "metadata": {},
          "execution_count": 110
        }
      ],
      "source": [
        "x[0, 1]"
      ]
    },
    {
      "cell_type": "code",
      "execution_count": 111,
      "metadata": {
        "id": "cOiPS0wLYzdR",
        "outputId": "01ae5027-6d01-4af7-978e-3498834cbbeb",
        "colab": {
          "base_uri": "https://localhost:8080/"
        }
      },
      "outputs": [
        {
          "output_type": "execute_result",
          "data": {
            "text/plain": [
              "array([3, 2, 1])"
            ]
          },
          "metadata": {},
          "execution_count": 111
        }
      ],
      "source": [
        "x[1]"
      ]
    },
    {
      "cell_type": "code",
      "execution_count": 112,
      "metadata": {
        "id": "eOgYSCWkYzdR",
        "outputId": "a4d0a5c9-858b-4995-c771-1300f116a997",
        "colab": {
          "base_uri": "https://localhost:8080/"
        }
      },
      "outputs": [
        {
          "output_type": "execute_result",
          "data": {
            "text/plain": [
              "array([[2, 3],\n",
              "       [2, 1]])"
            ]
          },
          "metadata": {},
          "execution_count": 112
        }
      ],
      "source": [
        "x[:, 1:3]"
      ]
    },
    {
      "cell_type": "markdown",
      "metadata": {
        "id": "A_Iait1AYzdS"
      },
      "source": [
        "## Exercises"
      ]
    },
    {
      "cell_type": "markdown",
      "metadata": {
        "id": "BAP1STe3YzdS"
      },
      "source": [
        "Try the three exercises at http://www.scipy-lectures.org/intro/numpy/exercises.html#array-manipulations"
      ]
    }
  ],
  "metadata": {
    "kernelspec": {
      "display_name": "Python 3",
      "language": "python",
      "name": "python3"
    },
    "language_info": {
      "codemirror_mode": {
        "name": "ipython",
        "version": 3
      },
      "file_extension": ".py",
      "mimetype": "text/x-python",
      "name": "python",
      "nbconvert_exporter": "python",
      "pygments_lexer": "ipython3",
      "version": "3.5.5"
    },
    "colab": {
      "provenance": [],
      "include_colab_link": true
    }
  },
  "nbformat": 4,
  "nbformat_minor": 0
}