{
  "nbformat": 4,
  "nbformat_minor": 0,
  "metadata": {
    "colab": {
      "provenance": [],
      "authorship_tag": "ABX9TyN/aveCRfY5BW6urnSVHz6Q",
      "include_colab_link": true
    },
    "kernelspec": {
      "name": "python3",
      "display_name": "Python 3"
    },
    "language_info": {
      "name": "python"
    }
  },
  "cells": [
    {
      "cell_type": "markdown",
      "metadata": {
        "id": "view-in-github",
        "colab_type": "text"
      },
      "source": [
        "<a href=\"https://colab.research.google.com/github/SergeiVKalinin/MSE_Spring2024/blob/main/Module%201/Homework_3.ipynb\" target=\"_parent\"><img src=\"https://colab.research.google.com/assets/colab-badge.svg\" alt=\"Open In Colab\"/></a>"
      ]
    },
    {
      "cell_type": "markdown",
      "source": [
        "Homework 3 for the MSE510 Course\n",
        "- Instructor Sergei V. Kalinin, sergei2@utk.edu\n",
        "- Please provide your name in the beginning of the notebook\n",
        "- To submit the homework, please share it with my gmail address (available on Canvas)"
      ],
      "metadata": {
        "id": "-6RmDvdqLcu7"
      }
    },
    {
      "cell_type": "markdown",
      "source": [
        "Run the code cell below"
      ],
      "metadata": {
        "id": "vSwh9QqUW2qA"
      }
    },
    {
      "cell_type": "code",
      "source": [
        "!gdown https://drive.google.com/uc?id=1UC6bu5nVFRBhHIL698jk0zt3AuDqREkV\n",
        "!unzip hw3.zip"
      ],
      "metadata": {
        "colab": {
          "base_uri": "https://localhost:8080/"
        },
        "id": "5V0IkZL4UzHb",
        "outputId": "36b3cf94-59e6-47d8-bbc4-b61b26d6a7f9"
      },
      "execution_count": 2,
      "outputs": [
        {
          "output_type": "stream",
          "name": "stdout",
          "text": [
            "Downloading...\n",
            "From: https://drive.google.com/uc?id=1UC6bu5nVFRBhHIL698jk0zt3AuDqREkV\n",
            "To: /content/hw3.zip\n",
            "\r  0% 0.00/9.96k [00:00<?, ?B/s]\r100% 9.96k/9.96k [00:00<00:00, 32.8MB/s]\n",
            "Archive:  hw3.zip\n",
            "  inflating: hw3p1.csv               \n",
            "  inflating: hw3p2.csv               \n",
            "  inflating: hw3p3.csv               \n"
          ]
        }
      ]
    },
    {
      "cell_type": "markdown",
      "source": [
        "Now you have created 3 csv files, named hw3p1, hw3p2, and hw3p3 respectively. Load the file hw3p1 into Pandas DataFrame. It will contain three sets of data representing x and corresponding f(x). There are three sets of data overall."
      ],
      "metadata": {
        "id": "p5k65wrBWzeI"
      }
    },
    {
      "cell_type": "markdown",
      "source": [
        "Problem 1. Fit the first set of data. Please try to find equation that can explain whole data set (not spline)"
      ],
      "metadata": {
        "id": "yv05IPhpXNqR"
      }
    },
    {
      "cell_type": "code",
      "source": [],
      "metadata": {
        "id": "YMAmhVsHXfGV"
      },
      "execution_count": null,
      "outputs": []
    },
    {
      "cell_type": "markdown",
      "source": [
        "Problem 2. Fit the second set of data.  Please try to find equation that can explain whole data set (not spline)"
      ],
      "metadata": {
        "id": "ZfKvQPJFXgYd"
      }
    },
    {
      "cell_type": "code",
      "source": [],
      "metadata": {
        "id": "EGgqbKHTXjrt"
      },
      "execution_count": null,
      "outputs": []
    },
    {
      "cell_type": "markdown",
      "source": [
        "Problem 3. Fit the third set of data.  Please try to find equation that can explain whole data set (not spline)"
      ],
      "metadata": {
        "id": "mE4l_GJ-Xj_E"
      }
    },
    {
      "cell_type": "code",
      "source": [],
      "metadata": {
        "id": "utE23SY7Xo-e"
      },
      "execution_count": null,
      "outputs": []
    },
    {
      "cell_type": "markdown",
      "source": [
        "Load the file hw3p2 into Pandas DataFrame. It will contain values of x, y, and f = f(x,y)"
      ],
      "metadata": {
        "id": "oZoSR3d7XpKk"
      }
    },
    {
      "cell_type": "markdown",
      "source": [
        "Problem 4: Fit f(x,y).  Please try to find equation that can explain whole data set (not spline)"
      ],
      "metadata": {
        "id": "ISnU5HODX2MW"
      }
    },
    {
      "cell_type": "code",
      "source": [],
      "metadata": {
        "id": "62zK9YxQX1JP"
      },
      "execution_count": null,
      "outputs": []
    },
    {
      "cell_type": "markdown",
      "source": [
        "Load the file hw3p3 into Pandas DataFrame. It will contain values of x1, x2, and y.  "
      ],
      "metadata": {
        "id": "hQr-shg0X84x"
      }
    },
    {
      "cell_type": "markdown",
      "source": [
        "Problem 5: Explore the relationships between y and x2, y and x1, and y(x1,x2). Make you guesses about how this data was generated."
      ],
      "metadata": {
        "id": "0Kn_GaWbYLfY"
      }
    },
    {
      "cell_type": "code",
      "source": [],
      "metadata": {
        "id": "HJSCCyXqYOZY"
      },
      "execution_count": null,
      "outputs": []
    },
    {
      "cell_type": "markdown",
      "source": [
        "Problem 6: Using ChatGPT, explore the the connection between the evolution of specific areas in physics and the development of special functions. Feel free to choose your own area, or pick one from the list below\n",
        "\n",
        "1. Quantum Mechanics and Hermite Polynomials\n",
        "Problem: Investigate the role of Hermite polynomials in the formulation of quantum mechanics. Discuss how these special functions contribute to the solutions of the quantum harmonic oscillator and their implications for understanding quantum states.\n",
        "\n",
        "2. General Relativity and Legendre Functions\n",
        "Problem: Explore the use of Legendre functions in the context of general relativity, particularly in solving the Schwarzschild solution. Analyze how these functions help describe the curvature of spacetime around spherical masses.\n",
        "\n",
        "3. Electromagnetism and Spherical Harmonics\n",
        "Problem: Study the application of spherical harmonics in solving Maxwell's equations in spherical coordinates. Discuss the significance of these special functions in understanding electromagnetic fields and potentials.\n",
        "\n",
        "4. Fluid Dynamics and Bessel Functions\n",
        "Problem: Examine how Bessel functions are utilized in fluid dynamics, especially in problems involving cylindrical symmetry. Evaluate their role in modeling flow in pipes and around obstacles.\n",
        "\n",
        "5. Statistical Mechanics and Laguerre Polynomials\n",
        "Problem: Explore the application of Laguerre polynomials in statistical mechanics, focusing on their role in the distribution functions of ideal quantum gases. Analyze how these functions aid in deriving properties like pressure and energy density.\n",
        "\n",
        "6. Astrophysics and Associated Legendre Functions\n",
        "Problem: Investigate the significance of associated Legendre functions in astrophysics, particularly in modeling gravitational potentials and describing the shapes of rotating astronomical bodies.\n",
        "\n",
        "You can:\n",
        "- Begin with a brief overview of the selected area of physics and its fundamental questions or problems.\n",
        "- Use ChatGPT to explore how special functions were introduced to address specific challenges in that area.\n",
        "- Analyze the mathematical properties of the special functions and how they contribute to the solutions of physical problems.\n",
        "- Discuss the broader implications of these solutions for the field of physics and our understanding of the universe.\n",
        "- What are your thoughts on interplay between mathematical innovation and physical discovery? how advances in one domain can spur progress in the other?"
      ],
      "metadata": {
        "id": "pT0MXq7hZRvn"
      }
    },
    {
      "cell_type": "markdown",
      "source": [
        "Answer 6:"
      ],
      "metadata": {
        "id": "WTz5JYB0asFf"
      }
    }
  ]
}