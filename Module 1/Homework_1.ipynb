{
  "nbformat": 4,
  "nbformat_minor": 0,
  "metadata": {
    "colab": {
      "provenance": [],
      "authorship_tag": "ABX9TyMlHUuBRqBKSNBbxnL4XHcK",
      "include_colab_link": true
    },
    "kernelspec": {
      "name": "python3",
      "display_name": "Python 3"
    },
    "language_info": {
      "name": "python"
    }
  },
  "cells": [
    {
      "cell_type": "markdown",
      "metadata": {
        "id": "view-in-github",
        "colab_type": "text"
      },
      "source": [
        "<a href=\"https://colab.research.google.com/github/SergeiVKalinin/MSE_Spring2024/blob/main/Module%201/Homework_1.ipynb\" target=\"_parent\"><img src=\"https://colab.research.google.com/assets/colab-badge.svg\" alt=\"Open In Colab\"/></a>"
      ]
    },
    {
      "cell_type": "markdown",
      "source": [
        "- Create new Colab, https://colab.google/ Links to an external site.\n",
        "- (if you are not familiar with Python) Chapter 1-4 and 10, Python Workshop\n",
        "- Read Wigner paper on GitHub, MSE_Spring2024/Module 1/wigner.pdf"
      ],
      "metadata": {
        "id": "drlUeqSwBqf_"
      }
    },
    {
      "cell_type": "code",
      "execution_count": null,
      "metadata": {
        "id": "7uae4H_bBnEy"
      },
      "outputs": [],
      "source": []
    }
  ]
}