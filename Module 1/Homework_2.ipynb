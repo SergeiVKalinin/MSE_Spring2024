{
  "nbformat": 4,
  "nbformat_minor": 0,
  "metadata": {
    "colab": {
      "provenance": [],
      "authorship_tag": "ABX9TyNCbZ0ugbRKIlVcgIO6l41Q",
      "include_colab_link": true
    },
    "kernelspec": {
      "name": "python3",
      "display_name": "Python 3"
    },
    "language_info": {
      "name": "python"
    }
  },
  "cells": [
    {
      "cell_type": "markdown",
      "metadata": {
        "id": "view-in-github",
        "colab_type": "text"
      },
      "source": [
        "<a href=\"https://colab.research.google.com/github/SergeiVKalinin/MSE_Spring2024/blob/main/Module%201/Homework_2.ipynb\" target=\"_parent\"><img src=\"https://colab.research.google.com/assets/colab-badge.svg\" alt=\"Open In Colab\"/></a>"
      ]
    },
    {
      "cell_type": "markdown",
      "source": [
        "Homework 2 for the MSE510 Course\n",
        "- Instructor Sergei V. Kalinin, sergei2@utk.edu\n",
        "- Please provide your name in the beginning of the notebook\n",
        "- To submit the homework, please share it with my gmail address (available on Canvas)\n"
      ],
      "metadata": {
        "id": "SEh8EOXhQ2UP"
      }
    },
    {
      "cell_type": "markdown",
      "source": [
        "Problem 1: Making function\n",
        "- define an (arbitrary) scalar function  \n",
        "- plot a graph over a chosen range\n",
        "- create an array of sampled points (e.g. 7)\n",
        "- show the points on the graph"
      ],
      "metadata": {
        "id": "Sx9OiUP4RbZX"
      }
    },
    {
      "cell_type": "code",
      "execution_count": null,
      "metadata": {
        "id": "pOL6L0gZQwBd"
      },
      "outputs": [],
      "source": []
    },
    {
      "cell_type": "markdown",
      "source": [
        "Problem 2: Spline interpolation\n",
        "- Interpolate the function using spline method\n",
        "- Plot the difference between original and interpolated function\n",
        "- Differentiate the function (analytically or numerically)\n",
        "- Differentiate the interpolated function\n",
        "- Compare the results"
      ],
      "metadata": {
        "id": "U4vQbYDmU1Pl"
      }
    },
    {
      "cell_type": "code",
      "source": [],
      "metadata": {
        "id": "VByKCxz2VC7X"
      },
      "execution_count": null,
      "outputs": []
    },
    {
      "cell_type": "markdown",
      "source": [
        "Problem 3: Linear interpolation\n",
        "- Interpolate the function using linear method\n",
        "- Plot the difference between original and interpolated function\n",
        "- Differentiate the function (analytically or numerically)\n",
        "- Differentiate the interpolated function\n",
        "- Compare the results"
      ],
      "metadata": {
        "id": "Sqrnj47oVm4N"
      }
    },
    {
      "cell_type": "code",
      "source": [],
      "metadata": {
        "id": "RTPK8zrcVu9B"
      },
      "execution_count": null,
      "outputs": []
    },
    {
      "cell_type": "markdown",
      "source": [
        "Problem 4: Lagrange polynomial interpolation\n",
        "- Interpolate the function using Lagrange polynomial method\n",
        "- Plot the difference between original and interpolated function\n",
        "- Differentiate the function (analytically or numerically)\n",
        "- Differentiate the interpolated function\n",
        "- Compare the results"
      ],
      "metadata": {
        "id": "melnLUAAVvZx"
      }
    },
    {
      "cell_type": "code",
      "source": [],
      "metadata": {
        "id": "X5H53rcUV5-e"
      },
      "execution_count": null,
      "outputs": []
    },
    {
      "cell_type": "markdown",
      "source": [
        "Problem 5:\n",
        "Compare spline, linear, and Lagrange methods in terms of:\n",
        "- how well they reproduce the function\n",
        "- how well they reproduce the derivative\n",
        "- how computationally expensive we expect them to be\n",
        "- how can spline method be improved?"
      ],
      "metadata": {
        "id": "fWdgw1PLV6Ju"
      }
    },
    {
      "cell_type": "markdown",
      "source": [
        "Answer 5:"
      ],
      "metadata": {
        "id": "7VKFSdl1WM3d"
      }
    },
    {
      "cell_type": "markdown",
      "source": [
        "Problem 6: Integration\n",
        "- Integrate the original and (one of the) interpolated functions\n",
        "- Compare the answers"
      ],
      "metadata": {
        "id": "eu9DeazZVDGO"
      }
    },
    {
      "cell_type": "code",
      "source": [],
      "metadata": {
        "id": "pYCTh41vVKqe"
      },
      "execution_count": null,
      "outputs": []
    },
    {
      "cell_type": "markdown",
      "source": [
        "Problem 7. Finding  roots:\n",
        "- Find the root of the equation y = (2 * x + 3) * np.exp(-x) + np.log(x)-1.7 on the interval [0.1, 10]\n",
        "- Do you expect there will be roots for x > 10? Why?"
      ],
      "metadata": {
        "id": "7c3Vst_-VK0w"
      }
    },
    {
      "cell_type": "code",
      "source": [],
      "metadata": {
        "id": "NbpMwFwSW7r9"
      },
      "execution_count": null,
      "outputs": []
    },
    {
      "cell_type": "markdown",
      "source": [
        "Note that for the subsequent 3 problems the answers can be correct and non-unique. So the important thing is to explain your logic."
      ],
      "metadata": {
        "id": "io8aoKbIW-oN"
      }
    },
    {
      "cell_type": "markdown",
      "source": [
        "Problem 8. Consider a ternary phase diagram of the system AxByC1-x-y as a function of (x,y,T,P), where T is temperature and P is pressure\n",
        "- What is the dimensionality of the parameter space?\n",
        "- Is the parameter space differentiable?\n",
        "- Choose some function over this parameter space - it can be indicator function indicating the presence of some phase, or weight fraction of some phase, oe even mechanical or electric properties of th esystem\n",
        "- Is this function continuous?\n",
        "- Is this function differentiable?\n",
        "- Can this function be interpolated, if we have measurements at certain points?\n",
        "- Can this function be integrated?"
      ],
      "metadata": {
        "id": "XJoenMC_YMLv"
      }
    },
    {
      "cell_type": "markdown",
      "source": [
        "Answer 8:"
      ],
      "metadata": {
        "id": "57vW9GVAaHLv"
      }
    },
    {
      "cell_type": "markdown",
      "source": [
        "Problem 9. Consider charging of the battery, where charging is induced by applying bias over time, V(t).\n",
        "- What is the dimensionality of the parameter space?\n",
        "- Is the parameter space differentiable?\n",
        "- Choose some function over this parameter space - it can be state of charge after charging or state of health. Or probability of thermal runaway.\n",
        "- Is this function continuous?\n",
        "- Is this function differentiable?\n",
        "- Can this function be interpolated, if we have measurements at certain points?\n",
        "- Can this function be integrated?"
      ],
      "metadata": {
        "id": "qdcSfYPvaHWA"
      }
    },
    {
      "cell_type": "markdown",
      "source": [
        "Answer 9:"
      ],
      "metadata": {
        "id": "shWmOdZKaXcn"
      }
    },
    {
      "cell_type": "markdown",
      "source": [
        "Problem 10. Consider the chemical space of small molecules, https://en.wikipedia.org/wiki/Chemical_space .\n",
        "- What is the dimensionality of the parameter space?\n",
        "- Is the parameter space differentiable?\n",
        "- Choose some function over this parameter space - it can be anything from molecular weight to enthalpy of formation, HOMO-LUMO gap, etc/\n",
        "- Is this function continuous?\n",
        "- Is this function differentiable?\n",
        "- Can this function be interpolated, if we have measurements at certain points?\n",
        "- Can this function be integrated?"
      ],
      "metadata": {
        "id": "_aVigNxYaasq"
      }
    },
    {
      "cell_type": "markdown",
      "source": [
        "Answer 10:"
      ],
      "metadata": {
        "id": "XkMMgLc7a-mI"
      }
    }
  ]
}